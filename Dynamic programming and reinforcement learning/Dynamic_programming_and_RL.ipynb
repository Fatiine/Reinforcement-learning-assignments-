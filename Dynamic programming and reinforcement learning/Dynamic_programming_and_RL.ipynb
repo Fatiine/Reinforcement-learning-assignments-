{
 "cells": [
  {
   "cell_type": "markdown",
   "metadata": {},
   "source": [
    "# TP 1: Dynamic Programming and Reinforcement Learning"
   ]
  },
  {
   "cell_type": "markdown",
   "metadata": {},
   "source": [
    "by BOUJNOUNI Fatine "
   ]
  },
  {
   "cell_type": "markdown",
   "metadata": {},
   "source": [
    "## I - Dynamic Programming"
   ]
  },
  {
   "cell_type": "code",
   "execution_count": 1,
   "metadata": {},
   "outputs": [],
   "source": [
    "# Imports \n",
    "import numpy as np \n",
    "import matplotlib.pyplot as plt"
   ]
  },
  {
   "cell_type": "markdown",
   "metadata": {},
   "source": [
    "#### Question 1 : "
   ]
  },
  {
   "cell_type": "markdown",
   "metadata": {},
   "source": [
    "From the figure, I guess the optimal policy $\\pi^*$ is ['a1', 'a1', 'a2']"
   ]
  },
  {
   "cell_type": "markdown",
   "metadata": {},
   "source": [
    "#### Question 2 : "
   ]
  },
  {
   "cell_type": "code",
   "execution_count": 12,
   "metadata": {},
   "outputs": [],
   "source": [
    "\n",
    "class MDP():\n",
    "    def __init__(self, states, actions, transitions, rewards, discount_factor):\n",
    "        \"\"\"\n",
    "        Defines the MDP Model.\n",
    "        \"\"\"\n",
    "        self.states = states\n",
    "        self.actions = actions \n",
    "        self.transitions = transitions \n",
    "        self.rewards = rewards\n",
    "        self.discount_factor = discount_factor\n",
    "        \n",
    "    def bellman_operator(self, V):\n",
    "        \"\"\"Computes the Bellmann operator for V\n",
    "        It returns a vector of optimal values and it optimal policy \"\"\"\n",
    "        Values = V.copy()\n",
    "        opti_policy = np.zeros(len(self.states))\n",
    "        for s in range(len(self.states)):\n",
    "            values = np.zeros(len(self.states))\n",
    "            for a in range(len(self.actions)):\n",
    "                values[a] = self.rewards[s,a] + self.discount_factor * np.sum(self.transitions[:,s,a] * V)\n",
    "            Values[s] = np.max(values)\n",
    "            opti_policy[s] = np.argmax(values)\n",
    "        return Values , opti_policy\n",
    "    \n",
    "    def value_iteration(self, epsilon):\n",
    "        \"\"\"Computes the value iteration algorithm\n",
    "        It returns the optimal policy and the list of value differences\"\"\"\n",
    "        V = np.zeros(len(self.states))\n",
    "        V_diff = 10*epsilon \n",
    "        V_diff_list =[] \n",
    "        while(V_diff > epsilon):\n",
    "            newV, optimal_policy = self.bellman_operator(V)\n",
    "            V_diff = np.max(np.linalg.norm(newV-V, np.inf))\n",
    "            V = newV\n",
    "            V_diff_list.append(V_diff)\n",
    "        print(\"The value function of the optimal policy \",newV )\n",
    "\n",
    "        return optimal_policy, V_diff_list\n",
    "    \n",
    "    def policy_evaluation(self, policy):\n",
    "        Rpi = self.rewards[np.arange(len(policy)),policy]\n",
    "        Tpi = self.transitions[:,np.arange(len(policy)),policy].T\n",
    "        Vpi = np.linalg.solve((np.identity(Tpi.shape[0]) - self.discount_factor * Tpi), Rpi)\n",
    "        return(Vpi)\n",
    "    \n",
    "    def policy_iteration(self, initial_policy):\n",
    "        \"Perform policy iteration on the graph\"\n",
    "        pi = initial_policy\n",
    "        pi.astype(int)\n",
    "        d = 1 \n",
    "        while(d > 0):\n",
    "            print(pi)\n",
    "            V = self.policy_evaluation(pi)\n",
    "            _,pprime = self.bellman_operator(V)\n",
    "            d = (np.max(abs(pi-pprime)))\n",
    "            pi = pprime.astype(int)\n",
    "        return(pi)\n"
   ]
  },
  {
   "cell_type": "code",
   "execution_count": 13,
   "metadata": {},
   "outputs": [],
   "source": [
    "states = np.array ([0,1,2])\n",
    "actions = np.array([0,1,2])\n",
    "transitions = np.zeros((3,3,3))\n",
    "transitions[0] = np.array([[0.55,0.3,1],[1,0,0],[0,0,0]]) \n",
    "transitions[1] = np.array([[0.45,0.7,0],[0,0.4,1],[1,0.6,0]])\n",
    "transitions[2] = np.array([[0,0,0],[0,0.6,0],[0,0.4,1]])\n",
    "rewards = np.array([[0,0,5/100],[0,0,0],[0,1,9/10]])"
   ]
  },
  {
   "cell_type": "code",
   "execution_count": 14,
   "metadata": {},
   "outputs": [
    {
     "data": {
      "text/plain": [
       "array([[[0.55, 0.3 , 1.  ],\n",
       "        [1.  , 0.  , 0.  ],\n",
       "        [0.  , 0.  , 0.  ]],\n",
       "\n",
       "       [[0.45, 0.7 , 0.  ],\n",
       "        [0.  , 0.4 , 1.  ],\n",
       "        [1.  , 0.6 , 0.  ]],\n",
       "\n",
       "       [[0.  , 0.  , 0.  ],\n",
       "        [0.  , 0.6 , 0.  ],\n",
       "        [0.  , 0.4 , 1.  ]]])"
      ]
     },
     "execution_count": 14,
     "metadata": {},
     "output_type": "execute_result"
    }
   ],
   "source": [
    "transitions"
   ]
  },
  {
   "cell_type": "code",
   "execution_count": 15,
   "metadata": {},
   "outputs": [],
   "source": [
    "# MDP Model \n",
    "mdp = MDP(states, actions, transitions, rewards, 0.95)"
   ]
  },
  {
   "cell_type": "code",
   "execution_count": 19,
   "metadata": {},
   "outputs": [
    {
     "name": "stdout",
     "output_type": "stream",
     "text": [
      "The value function of the optimal policy  [15.3862763  16.54350617 17.99511907]\n",
      "The optimal policy is : [1. 1. 2.]\n"
     ]
    },
    {
     "data": {
      "image/png": "[encoded data removed]",
      "text/plain": [
       "<Figure size 432x288 with 1 Axes>"
      ]
     },
     "metadata": {
      "needs_background": "light"
     },
     "output_type": "display_data"
    }
   ],
   "source": [
    "precision = 0.01\n",
    "gamma = 0.95\n",
    "epsilon = precision*(1 - gamma)/(2*gamma)\n",
    "optimal_policy, value_differences = mdp.value_iteration(epsilon)\n",
    "print(\"The optimal policy is :\", optimal_policy)\n",
    "\n",
    "plt.plot(value_differences);\n",
    "plt.title(\"Difference as a function of iterations\")\n",
    "plt.xlabel(\"Iterations\")\n",
    "plt.ylabel(\"$||v^k - v*)||_\\infty$\")\n",
    "plt.show()"
   ]
  },
  {
   "cell_type": "markdown",
   "metadata": {},
   "source": [
    "#### Question 3 : \n"
   ]
  },
  {
   "cell_type": "code",
   "execution_count": 20,
   "metadata": {},
   "outputs": [
    {
     "name": "stdout",
     "output_type": "stream",
     "text": [
      "[0 0 0]\n",
      "[2 0 1]\n",
      "[2 1 2]\n",
      "[1 1 2]\n"
     ]
    }
   ],
   "source": [
    "# Question 3 :\n",
    "initial_policy = np.array([0, 0, 0])\n",
    "v,p,i = mdp.policy_iteration(initial_policy)"
   ]
  },
  {
   "cell_type": "markdown",
   "metadata": {},
   "source": [
    "The policy iteration algorithm converges faster than the value iteration algorithm. The first one converges in 3 iterations and the second in  approximatively 160 iterations.\n",
    "However, the policy iteration is more expensive because it requires a full policy evaluation in each iteration. \n"
   ]
  },
  {
   "cell_type": "markdown",
   "metadata": {},
   "source": [
    "## 2 - Reinforcement learning "
   ]
  },
  {
   "cell_type": "code",
   "execution_count": 21,
   "metadata": {},
   "outputs": [],
   "source": [
    "# Imports \n",
    "from gridworld import *\n"
   ]
  },
  {
   "cell_type": "markdown",
   "metadata": {},
   "source": [
    "### Policy Evaluation "
   ]
  },
  {
   "cell_type": "markdown",
   "metadata": {},
   "source": [
    "##### Question 4 "
   ]
  },
  {
   "cell_type": "code",
   "execution_count": 22,
   "metadata": {},
   "outputs": [],
   "source": [
    "Vpi = np.array([0.87691855, 0.92820033, 0.98817903, 0.00000000, 0.67106071, -0.99447514, 0.00000000, -0.82847001, -0.87691855,\n",
    "        -0.93358351, -0.99447514]).T\n",
    "env = GridWorld1"
   ]
  },
  {
   "cell_type": "code",
   "execution_count": 29,
   "metadata": {},
   "outputs": [
    {
     "data": {
      "text/plain": [
       "18"
      ]
     },
     "execution_count": 29,
     "metadata": {},
     "output_type": "execute_result"
    }
   ],
   "source": [
    "# Tmax \n",
    "delta = 0.4\n",
    "Rmax = 1\n",
    "Tmax = int(round(-np.log(delta/Rmax) / (1 - env.gamma)))\n",
    "Tmax"
   ]
  },
  {
   "cell_type": "code",
   "execution_count": 30,
   "metadata": {},
   "outputs": [],
   "source": [
    "# Compute the \"mu\"s\n",
    "def compute_MU(env, N):\n",
    "    MU = np.zeros(env.n_states)\n",
    "    for i in range(N):\n",
    "        initial_state = env.reset()\n",
    "        MU[initial_state] += 1\n",
    "    MU=MU/np.sum(MU)\n",
    "    return MU\n",
    "\n",
    "def compute_R(env, initial_state, policy, Tmax):\n",
    "    state = initial_state\n",
    "    t = 0\n",
    "    gain = 0\n",
    "    t_flag = False\n",
    "    coef = 1\n",
    "    R = 0\n",
    "    while( t < Tmax ):\n",
    "        t += 1\n",
    "        state, reward, t_flag = env.step(state,policy[state])\n",
    "        if(t_flag):\n",
    "            R += coef*reward\n",
    "        else:\n",
    "            coef = coef*env.gamma\n",
    "            R += coef*reward\n",
    "    return(R)\n",
    "\n",
    "def compute_Vn(env, policy, N, Tmax):\n",
    "    Ns = np.zeros(env.n_states)\n",
    "    V  = np.zeros(env.n_states)\n",
    "    Vn = np.zeros((N, env.n_states))\n",
    "    for i in range(N):\n",
    "        initial_state = env.reset()\n",
    "        Ns[initial_state] += 1\n",
    "        R = compute_R(env, initial_state, policy, Tmax)\n",
    "        V[initial_state] += R\n",
    "        Vn[i,:] = V/Ns\n",
    "    return(Vn)\n",
    "      "
   ]
  },
  {
   "cell_type": "code",
   "execution_count": 43,
   "metadata": {},
   "outputs": [
    {
     "name": "stderr",
     "output_type": "stream",
     "text": [
      "/Users/fatineboujnouni/anaconda3/lib/python3.7/site-packages/ipykernel_launcher.py:36: RuntimeWarning: invalid value encountered in true_divide\n"
     ]
    }
   ],
   "source": [
    "N = 10000\n",
    "pol = [0, 0, 0, 0, 3, 0, 0, 0, 0, 0, 3]\n",
    "MU = compute_MU(env, N)\n",
    "Vn = compute_Vn(env, pol, N, Tmax)\n",
    "Jpi = np.dot(Vpi,MU)\n",
    "Jn = np.dot(Vn,MU)"
   ]
  },
  {
   "cell_type": "code",
   "execution_count": 44,
   "metadata": {},
   "outputs": [
    {
     "data": {
      "image/png": "[encoded data removed]",
      "text/plain": [
       "<Figure size 432x288 with 1 Axes>"
      ]
     },
     "metadata": {
      "needs_background": "light"
     },
     "output_type": "display_data"
    },
    {
     "name": "stdout",
     "output_type": "stream",
     "text": [
      "\n"
     ]
    }
   ],
   "source": [
    "plt.plot((Jn-Jpi))\n",
    "plt.title(\"Evolution of Jn-Jpi\")\n",
    "plt.xlabel(\"N\")\n",
    "plt.ylabel(\"$J_n - J^{\\pi}$\")\n",
    "plt.show()\n",
    "print()"
   ]
  },
  {
   "cell_type": "markdown",
   "metadata": {},
   "source": [
    "### Policy Optimization \n"
   ]
  },
  {
   "cell_type": "markdown",
   "metadata": {},
   "source": [
    "#### Question 5 "
   ]
  },
  {
   "cell_type": "code",
   "execution_count": 45,
   "metadata": {},
   "outputs": [],
   "source": [
    "def greedy_action(env, Q, state, epsilon):\n",
    "    \"\"\" Return an action argmax(a)(Q(state, a)) with probability 1-epsilon \"\"\"\n",
    "    prob = np.random.random()\n",
    "    current_state_actions = env.state_actions[state]\n",
    "\n",
    "    A = current_state_actions[0]\n",
    "    max_Q = Q[state,A]\n",
    "    \n",
    "    if prob < epsilon:\n",
    "        action = np.random.choice(current_state_actions)\n",
    "    else:\n",
    "        #action = np.argmax(Q[state] )\n",
    "        for a in current_state_actions:\n",
    "            if Q[state,a] > max_Q:\n",
    "                max_Q = Q[state,a]\n",
    "                A = a\n",
    "        action = A\n",
    "    return action\n",
    "\n",
    "def Qlearning(env, N, Tmax, epsilon, alpha):\n",
    "    \"\"\" Q learning algorithm.\n",
    "    It returns the optimal Q function , \n",
    "    the list of value functions at each episode\n",
    "    and a list of cumulated rewards at each episode\"\"\"\n",
    "    # value functions \n",
    "    values = []\n",
    "    \n",
    "    # Cumulated rewards\n",
    "    cumulated_rewards = []\n",
    "    cumulated_reward = 0\n",
    "    \n",
    "    # Initialization of Q\n",
    "    Q = np.zeros((env.n_states, len(env.action_names)))\n",
    "                \n",
    "    for i in range(N):\n",
    "        state = env.reset()\n",
    "        t_flag = False\n",
    "        for t in range(1, Tmax):\n",
    "            if not t_flag:\n",
    "                action = greedy_action(env, Q, state, epsilon)  \n",
    "                next_state, reward, t_flag = env.step(state, action)\n",
    "                Q[state][action] += alpha * (reward + env.gamma * np.max(Q[next_state]) - Q[state][action])\n",
    "                state = next_state\n",
    "                cumulated_reward += reward\n",
    "            else:\n",
    "                values.append(np.max(Q, axis=1))\n",
    "                cumulated_rewards.append(cumulated_reward)\n",
    "                break\n",
    "    return Q, values, cumulated_rewards"
   ]
  },
  {
   "cell_type": "code",
   "execution_count": 46,
   "metadata": {},
   "outputs": [],
   "source": [
    "Vprime = np.array([0.87691855, 0.92820033, 0.98817903, 0.00000000, 0.82369294, 0.92820033, 0.00000000, 0.77818504, 0.82369294,\n",
    "         0.87691855, 0.82847001]).T\n"
   ]
  },
  {
   "cell_type": "code",
   "execution_count": 81,
   "metadata": {},
   "outputs": [],
   "source": [
    "# Test Q learning algorithm for different epsilon values\n",
    "epsilons = [i*0.1 for i in range(10)]\n",
    "N = 10000\n",
    "alpha = 0.1\n",
    "\n",
    "cumulated_rewards = []\n",
    "value_functions = []\n",
    "\n",
    "for e in epsilons:\n",
    "    Q, V, R = Qlearning(env, N, Tmax, e, alpha)\n",
    "    cumulated_rewards.append(R[-1]) # Last cumulated reward\n",
    "    value_functions.append(V[-1]) # Last Value function"
   ]
  },
  {
   "cell_type": "code",
   "execution_count": 82,
   "metadata": {},
   "outputs": [
    {
     "data": {
      "image/png": "[encoded data removed]",
      "text/plain": [
       "<Figure size 432x288 with 1 Axes>"
      ]
     },
     "metadata": {
      "needs_background": "light"
     },
     "output_type": "display_data"
    }
   ],
   "source": [
    "plt.plot(epsilons, cumulated_rewards)\n",
    "plt.xlabel(\"epsilon\")\n",
    "plt.ylabel(\"cumulated rewards\")\n",
    "plt.title(\"Cumulated rewards in function of epsilon\")\n",
    "plt.show()"
   ]
  },
  {
   "cell_type": "code",
   "execution_count": 83,
   "metadata": {},
   "outputs": [
    {
     "data": {
      "image/png": "[encoded data removed]",
      "text/plain": [
       "<Figure size 432x288 with 1 Axes>"
      ]
     },
     "metadata": {
      "needs_background": "light"
     },
     "output_type": "display_data"
    }
   ],
   "source": [
    "V_diff = [np.linalg.norm(v-Vprime, np.inf) for v in value_functions]\n",
    "plt.plot(epsilons, V_diff)\n",
    "plt.xlabel(\"epsilon\")\n",
    "plt.ylabel(\"$||v^K - v*)||_\\infty$\")\n",
    "plt.title(\"Value function differences in function of epsilon\")\n",
    "plt.show()"
   ]
  },
  {
   "cell_type": "markdown",
   "metadata": {},
   "source": [
    "According to the 2 graphs, the best epsilon to choose is 0.1 \n"
   ]
  },
  {
   "cell_type": "code",
   "execution_count": 90,
   "metadata": {},
   "outputs": [],
   "source": [
    "N = 10000\n",
    "epsilon = 0.1 \n",
    "alpha = 0.1\n",
    "Q, V, R = Qlearning(env, N, 90, epsilon, alpha)"
   ]
  },
  {
   "cell_type": "code",
   "execution_count": 91,
   "metadata": {},
   "outputs": [
    {
     "data": {
      "image/png": "[encoded data removed]",
      "text/plain": [
       "<Figure size 432x288 with 1 Axes>"
      ]
     },
     "metadata": {
      "needs_background": "light"
     },
     "output_type": "display_data"
    }
   ],
   "source": [
    "# Convergence of the Q-learning algorithm\n",
    "V_diff = [np.linalg.norm(v-Vprime, np.inf) for v in V]\n",
    "plt.plot(V_diff)\n",
    "plt.ylabel(\"$||v^k - v*)||_\\infty$\")\n",
    "plt.xlabel(\"N\")\n",
    "plt.title(\"Convergence of the Q-learning \")\n",
    "plt.show()"
   ]
  },
  {
   "cell_type": "code",
   "execution_count": 92,
   "metadata": {},
   "outputs": [
    {
     "data": {
      "image/png": "[encoded data removed]",
      "text/plain": [
       "<Figure size 432x288 with 1 Axes>"
      ]
     },
     "metadata": {
      "needs_background": "light"
     },
     "output_type": "display_data"
    }
   ],
   "source": [
    "# Convergence of the Q-learning algorithm\n",
    "plt.plot(R)\n",
    "plt.ylabel(\"cumulated rewards\")\n",
    "plt.xlabel(\"N\")\n",
    "plt.title(\"Evolution of cumulated rewards \")\n",
    "plt.show()"
   ]
  },
  {
   "cell_type": "code",
   "execution_count": 93,
   "metadata": {},
   "outputs": [],
   "source": [
    "gui.render_q(env, Q)"
   ]
  },
  {
   "cell_type": "markdown",
   "metadata": {},
   "source": [
    "#### Question 6:"
   ]
  },
  {
   "cell_type": "markdown",
   "metadata": {},
   "source": [
    " No, the optimal policy is not affected by $\\mu_0$ , because the optimal policy works for any initial state."
   ]
  },
  {
   "cell_type": "code",
   "execution_count": null,
   "metadata": {},
   "outputs": [],
   "source": []
  }
 ],
 "metadata": {
  "kernelspec": {
   "display_name": "Python 3",
   "language": "python",
   "name": "python3"
  },
  "language_info": {
   "codemirror_mode": {
    "name": "ipython",
    "version": 3
   },
   "file_extension": ".py",
   "mimetype": "text/x-python",
   "name": "python",
   "nbconvert_exporter": "python",
   "pygments_lexer": "ipython3",
   "version": "3.7.0"
  }
 },
 "nbformat": 4,
 "nbformat_minor": 2
}
