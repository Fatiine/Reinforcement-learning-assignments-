{
 "cells": [
  {
   "cell_type": "markdown",
   "metadata": {},
   "source": [
    "# Assignement 2 : The Exploration-Exploitation Dilemma"
   ]
  },
  {
   "cell_type": "markdown",
   "metadata": {},
   "source": [
    "## 1 - Stochastic Multi-Armed Bandits on Simulated Data"
   ]
  },
  {
   "cell_type": "markdown",
   "metadata": {},
   "source": [
    "### 1.1 Bernoulli bandit models"
   ]
  },
  {
   "cell_type": "code",
   "execution_count": 1,
   "metadata": {},
   "outputs": [],
   "source": [
    "# Imports \n",
    "import numpy as np \n",
    "import arms\n",
    "from tqdm import tqdm\n",
    "import matplotlib.pyplot as plt\n",
    "import random\n"
   ]
  },
  {
   "cell_type": "code",
   "execution_count": 2,
   "metadata": {},
   "outputs": [],
   "source": [
    "# Defining our own Bernoulli bandit model with 4 arms \n",
    "\n",
    "# Random state\n",
    "rs = np.random.randint(1, 312414)\n",
    "\n",
    "# Bernouilli Bandit \n",
    "arm1 = arms.ArmBernoulli(0.50, random_state=rs)\n",
    "arm2 = arms.ArmBernoulli(0.35, random_state=rs)\n",
    "arm3 = arms.ArmBernoulli(0.40, random_state=rs)\n",
    "arm4 = arms.ArmBernoulli(0.25, random_state=rs)\n",
    "\n",
    "arm5 = arms.ArmBernoulli(0.45, random_state=rs)\n",
    "arm6 = arms.ArmBernoulli(0.65, random_state=rs)\n",
    "arm7 = arms.ArmBernoulli(0.15, random_state=rs)\n",
    "arm8 = arms.ArmBernoulli(0.85, random_state=rs)\n",
    "\n",
    "MAB1 = [arm1, arm2, arm3, arm4]\n",
    "MAB2 = [arm5, arm6, arm7, arm8]\n"
   ]
  },
  {
   "cell_type": "code",
   "execution_count": 3,
   "metadata": {},
   "outputs": [],
   "source": [
    "def UCB1(T, MAB, rho=0.2 ):\n",
    "    \"\"\"\n",
    "    Simulates a bandit game of length T with the UCB1 strategy on the bandit model MAB.\n",
    "    Returns \"rew\": the sequence of the T rewards obtained\n",
    "        and \"draws\":  the sequence the T the arms drawn.\n",
    "    \n",
    "    Parameters : \n",
    "    ==========\n",
    "        T : int , Rounds\n",
    "        MAB : list , List of arms \n",
    "        ro : float, \n",
    "    \"\"\" \n",
    "    # nbrA : number of arms\n",
    "    nbrA = len(MAB)\n",
    "    # List of the obtained rewards \n",
    "    rew = []\n",
    "    # List of drawn arms \n",
    "    draws = []\n",
    "    # Sum of arms rewards\n",
    "    sum_rew = [0] * nbrA\n",
    "    # Number of times each arm has been drawn \n",
    "    n_draws = [0] * nbrA\n",
    "    \n",
    "    # Initialise first phase : Play each arm once\n",
    "    for i in range(nbrA):\n",
    "        n_draws[i] += 1\n",
    "        reward = int(MAB[i].sample())\n",
    "        sum_rew[i] += reward\n",
    "        draws.append(i)\n",
    "        rew.append(reward)\n",
    "        \n",
    "    # Other drawings until time T\n",
    "    for t in range(nbrA, T):\n",
    "        # optimistic scores of the arms at time t\n",
    "        optimistic_scores = np.array([sum_rew[a]/n_draws[a] + rho*np.sqrt(np.log(t)/(2*n_draws[a])) \n",
    "                           for a in range(nbrA)])\n",
    "\n",
    "        # Pull arm\n",
    "        # Arm to draw is the arm with the highest score \n",
    "        index_arm_draw = np.argmax(optimistic_scores)\n",
    "        \n",
    "        reward = int(MAB[index_arm_draw].sample())\n",
    "        n_draws[index_arm_draw] += 1\n",
    "        sum_rew[index_arm_draw] += reward\n",
    "        draws.append(index_arm_draw)\n",
    "        rew.append(reward)\n",
    "    return rew, draws        "
   ]
  },
  {
   "cell_type": "code",
   "execution_count": 4,
   "metadata": {},
   "outputs": [],
   "source": [
    "def TS(T,MAB):\n",
    "    \"\"\"    \n",
    "    Simulates a bandit game of length T with the Thompson Sampling strategy on the bandit model MAB.\n",
    "    Returns \"rew\": the sequence of the T rewards obtained\n",
    "        and \"draws\": the sequence the T the arms drawn.\n",
    "    \n",
    "    Parameters : \n",
    "    ==========\n",
    "        T : int, Rounds\n",
    "        MAB : list, List of arms \n",
    "    \"\"\" \n",
    "    # nbrA : number of arms\n",
    "    nbrA = len(MAB)\n",
    "    # List of the obtained rewards \n",
    "    rew = []\n",
    "    # List of drawn arms \n",
    "    draws = []\n",
    "    # Sum of arms rewards\n",
    "    sum_rew = [0] * nbrA\n",
    "    # Number of times each arm has been drawn \n",
    "    n_draws = [0] * nbrA\n",
    "    \n",
    "    for t in range(T):\n",
    "        # posterior distributions\n",
    "        scores = [np.random.beta(sum_rew[a] + 1, n_draws[a] - sum_rew[a] + 1) \n",
    "                  for a in range(nbrA)]\n",
    "        # Pull arm\n",
    "        # Arm to draw is the arm with the highest score \n",
    "        index_arm_draw = np.argmax(scores)\n",
    "        \n",
    "        reward = int(MAB[index_arm_draw].sample())\n",
    "    \n",
    "        n_draws[index_arm_draw] += 1\n",
    "        sum_rew[index_arm_draw] += reward\n",
    "        draws.append(index_arm_draw)\n",
    "        rew.append(reward)\n",
    "    return rew, draws "
   ]
  },
  {
   "cell_type": "code",
   "execution_count": 5,
   "metadata": {},
   "outputs": [],
   "source": [
    "def NaiveStrat(T, MAB):\n",
    "    \"\"\"    \n",
    "    Simulates a bandit game of length T with the Naive strategy on the bandit model MAB.\n",
    "    Returns \"rew\": the sequence of the T rewards obtained\n",
    "        and \"draws\": the sequence the T the arms drawn.\n",
    "    \n",
    "    Parameters : \n",
    "    ==========\n",
    "        T : int, Rounds\n",
    "        MAB : list, List of arms \n",
    "    \"\"\"\n",
    "    # nbrA : number of arms\n",
    "    nbrA = len(MAB)\n",
    "    # List of the obtained rewards \n",
    "    rew = []\n",
    "    # List of drawn arms \n",
    "    draws = []\n",
    "    # Sum of arms rewards\n",
    "    sum_rew = [0] * nbrA\n",
    "    # Number of times each arm has been drawn \n",
    "    n_draws = [0] * nbrA\n",
    "    \n",
    "    # Initialise first phase : Play each arm once\n",
    "    for i in range(nbrA):\n",
    "        reward = int(MAB[i].sample())\n",
    "        n_draws[i] += 1\n",
    "        sum_rew[i] += reward\n",
    "        draws.append(i)\n",
    "        rew.append(reward)\n",
    "        \n",
    "    # Other drawings until time T\n",
    "    for t in range(nbrA, T):\n",
    "        # Empirical best arm \n",
    "        scores = np.array([sum_rew[a]/n_draws[a] for a in range(nbrA)])\n",
    "        # Pull arm\n",
    "        # Arm to draw is the arm with the highest score \n",
    "        index_arm_draw = np.argmax(scores)\n",
    "        \n",
    "        reward = int(MAB[index_arm_draw].sample())\n",
    "        n_draws[index_arm_draw] += 1\n",
    "        sum_rew[index_arm_draw] += reward\n",
    "        draws.append(index_arm_draw)\n",
    "        rew.append(reward)\n",
    "    return rew, draws  "
   ]
  },
  {
   "cell_type": "code",
   "execution_count": 6,
   "metadata": {},
   "outputs": [],
   "source": [
    "\"\"\"Simulating a bandit game of length T with the UCB1 and Thompson Sampling\n",
    "strategy on the bandit model MAB: rew and draws are the sequence of the\n",
    "T rewards obtained and of the T the arms drawn.\"\"\"\n",
    "T = 5000  # horizon\n",
    "\n",
    "rew1, draws1 = UCB1(T, MAB1)\n",
    "rew2, draws2 = TS(T, MAB1)\n",
    "rew3, draws3 = NaiveStrat(T, MAB1)\n"
   ]
  },
  {
   "cell_type": "code",
   "execution_count": 7,
   "metadata": {},
   "outputs": [],
   "source": [
    "def expected_regret(MAB, T, strategy, N):\n",
    "    \"\"\"Based on many simulations on the MAB for a given strategy, \n",
    "    it computes the mean regrets at each time.\n",
    "    It returns an array of mean regrets at each t in range(T)\n",
    "    \n",
    "    Parameters :\n",
    "    ===========\n",
    "    MAB : list, list of arms \n",
    "    T : int, Time horizon\n",
    "    strategy : str, \"UCB1\" or \"TS\" ( Thompson Sampling)\n",
    "    N : int, number of simulations \n",
    "    \"\"\"\n",
    "    # best arm\n",
    "    means = [el.mean for el in MAB]\n",
    "    mu_max = np.max(means)\n",
    "    \n",
    "    reg = np.zeros((N, T))\n",
    "    rew = np.zeros(T)\n",
    "    draws = np.zeros(T)\n",
    "\n",
    "    for k in tqdm(range(N), desc=\"Simulating {}\".format(strategy)):\n",
    "        if strategy == \"UCB1\":\n",
    "            rew1, draws1 = UCB1(T, MAB)\n",
    "            reg[k, :] = mu_max * np.arange(1, T + 1) - np.cumsum(rew1) \n",
    "        \n",
    "        elif strategy == \"TS\":\n",
    "            rew2, draws2 = TS(T, MAB)\n",
    "            reg[k, :] = mu_max * np.arange(1, T + 1) - np.cumsum(rew2)\n",
    "        \n",
    "        elif strategy == \"NaiveStrat\":\n",
    "            rew3, draws3 == NaiveStrat(T, MAB)\n",
    "            reg[k, :] =  mu_max * np.arange(1, T + 1) - np.cumsum(rew3) \n",
    "            \n",
    "    mean_regret = np.mean(reg, axis = 0)\n",
    "    return mean_regret"
   ]
  },
  {
   "cell_type": "code",
   "execution_count": 8,
   "metadata": {},
   "outputs": [],
   "source": [
    "def kl(x, y):\n",
    "    return x*np.log(x/y) + (1-x)*np.log((1-x)/(1-y))\n",
    "\n",
    "def problem_complexity(MAB):\n",
    "    means = [arm.mean for arm in MAB]\n",
    "    p1 = max(means)\n",
    "    c = sum((p1-p)/(kl(p, p1)) for p in means if p != p1)\n",
    "    return c\n",
    "    "
   ]
  },
  {
   "cell_type": "markdown",
   "metadata": {},
   "source": [
    "#### Question 1:"
   ]
  },
  {
   "cell_type": "code",
   "execution_count": 9,
   "metadata": {},
   "outputs": [
    {
     "name": "stderr",
     "output_type": "stream",
     "text": [
      "Simulating UCB1:   1%|          | 1/100 [00:00<00:15,  6.35it/s]"
     ]
    },
    {
     "name": "stdout",
     "output_type": "stream",
     "text": [
      "The expected regret of UCB1 after 100 simulations : \n"
     ]
    },
    {
     "name": "stderr",
     "output_type": "stream",
     "text": [
      "Simulating UCB1: 100%|██████████| 100/100 [00:15<00:00,  7.21it/s]\n",
      "Simulating TS:   2%|▏         | 2/100 [00:00<00:09, 10.73it/s]"
     ]
    },
    {
     "name": "stdout",
     "output_type": "stream",
     "text": [
      "[-4.0000e-02  6.0000e-02  1.2000e-01 ...  2.0391e+02  2.0405e+02\n",
      "  2.0403e+02]\n",
      "The expected regret of Thompson Sampling after 100 simulations : \n"
     ]
    },
    {
     "name": "stderr",
     "output_type": "stream",
     "text": [
      "Simulating TS: 100%|██████████| 100/100 [00:08<00:00, 12.33it/s]\n",
      "Simulating NaiveStrat:   2%|▏         | 2/100 [00:00<00:05, 16.77it/s]"
     ]
    },
    {
     "name": "stdout",
     "output_type": "stream",
     "text": [
      "[ 0.18  0.21  0.33 ... 30.86 30.89 30.88]\n",
      "The expected regret of Naive strateg after 100 simulations : \n"
     ]
    },
    {
     "name": "stderr",
     "output_type": "stream",
     "text": [
      "Simulating NaiveStrat: 100%|██████████| 100/100 [00:04<00:00, 21.08it/s]"
     ]
    },
    {
     "name": "stdout",
     "output_type": "stream",
     "text": [
      "[-5.000e-01  0.000e+00 -5.000e-01 ...  5.010e+02  5.015e+02  5.020e+02]\n"
     ]
    },
    {
     "name": "stderr",
     "output_type": "stream",
     "text": [
      "\n"
     ]
    }
   ],
   "source": [
    "\"\"\" Based on many simulations, estimate the expected regret of \n",
    "UCB1 and Thompson Sampling \"\"\"\n",
    "N = 100  # number of simulations \n",
    "# The expected regret of UCB1\n",
    "print (\"The expected regret of UCB1 after {} simulations : \".format(N))\n",
    "reg1 = expected_regret(MAB1, T, \"UCB1\", N)\n",
    "print(reg1)\n",
    "# The expected regret of Thompson Sampling\n",
    "print (\"The expected regret of Thompson Sampling after {} simulations : \".format(N))\n",
    "reg2 = expected_regret(MAB1, T, \"TS\", N)\n",
    "print(reg2)\n",
    "# The expected regret of Naive strategy\n",
    "print (\"The expected regret of Naive strateg after {} simulations : \".format(N))\n",
    "reg3 = expected_regret(MAB1, T, \"NaiveStrat\", N)\n",
    "print(reg3)"
   ]
  },
  {
   "cell_type": "code",
   "execution_count": 10,
   "metadata": {},
   "outputs": [
    {
     "name": "stdout",
     "output_type": "stream",
     "text": [
      "Problem 1 with complexity : 10.159725560246056\n"
     ]
    },
    {
     "data": {
      "image/png": "[encoded data removed]",
      "text/plain": [
       "<Figure size 432x288 with 1 Axes>"
      ]
     },
     "metadata": {
      "needs_background": "light"
     },
     "output_type": "display_data"
    }
   ],
   "source": [
    "\"\"\"Display regret curves for problem 1\"\"\"\n",
    "\n",
    "x = np.arange(1, T+1)\n",
    "c = problem_complexity(MAB1)\n",
    "oracle = [c*np.log(t) for t in x]\n",
    "\n",
    "print(\"Problem 1 with complexity :\", c)\n",
    "plt.figure(1)\n",
    "\n",
    "\n",
    "plt.plot(x, reg1, label='UCB')\n",
    "plt.plot(x, reg2, label='TS')\n",
    "#plt.plot(x, reg3, label='Naive')\n",
    "plt.plot(x, oracle, label='Oracle')\n",
    "plt.legend()\n",
    "plt.xlabel('Rounds')\n",
    "plt.ylabel('Cumulative Regret')\n",
    "plt.title('Regret curves of problem 1')\n",
    "plt.show()"
   ]
  },
  {
   "cell_type": "code",
   "execution_count": 11,
   "metadata": {},
   "outputs": [
    {
     "name": "stderr",
     "output_type": "stream",
     "text": [
      "Simulating UCB1:   1%|          | 1/100 [00:00<00:11,  8.65it/s]"
     ]
    },
    {
     "name": "stdout",
     "output_type": "stream",
     "text": [
      "The expected regret of UCB1 after 100 simulations : \n"
     ]
    },
    {
     "name": "stderr",
     "output_type": "stream",
     "text": [
      "Simulating UCB1: 100%|██████████| 100/100 [00:14<00:00,  7.03it/s]\n",
      "Simulating TS:   2%|▏         | 2/100 [00:00<00:08, 12.23it/s]"
     ]
    },
    {
     "name": "stdout",
     "output_type": "stream",
     "text": [
      "[  0.34   0.44   1.11 ... 190.6  190.59 190.66]\n",
      "The expected regret of Thompson Sampling after 100 simulations : \n"
     ]
    },
    {
     "name": "stderr",
     "output_type": "stream",
     "text": [
      "Simulating TS: 100%|██████████| 100/100 [00:09<00:00, 10.64it/s]\n",
      "Simulating NaiveStrat:   3%|▎         | 3/100 [00:00<00:04, 22.23it/s]"
     ]
    },
    {
     "name": "stdout",
     "output_type": "stream",
     "text": [
      "[ 0.18  0.52  0.79 ... 15.6  15.63 15.57]\n",
      "The expected regret of Naive strateg after 100 simulations : \n"
     ]
    },
    {
     "name": "stderr",
     "output_type": "stream",
     "text": [
      "Simulating NaiveStrat: 100%|██████████| 100/100 [00:04<00:00, 23.29it/s]"
     ]
    },
    {
     "name": "stdout",
     "output_type": "stream",
     "text": [
      "[-1.50000e-01  7.00000e-01  5.50000e-01 ...  2.25030e+03  2.25115e+03\n",
      "  2.25200e+03]\n"
     ]
    },
    {
     "name": "stderr",
     "output_type": "stream",
     "text": [
      "\n"
     ]
    }
   ],
   "source": [
    "\"\"\" Based on many simulations, estimate the expected regret of \n",
    "UCB1 and Thompson Sampling \"\"\"\n",
    "# The expected regret of UCB1\n",
    "print (\"The expected regret of UCB1 after {} simulations : \".format(N))\n",
    "reg1 = expected_regret(MAB2, T, \"UCB1\", N)\n",
    "print(reg1)\n",
    "# The expected regret of Thompson Sampling\n",
    "print (\"The expected regret of Thompson Sampling after {} simulations : \".format(N))\n",
    "reg2 = expected_regret(MAB2, T, \"TS\", N)\n",
    "print(reg2)\n",
    "# The expected regret of Naive strategy\n",
    "print (\"The expected regret of Naive strateg after {} simulations : \".format(N))\n",
    "reg3 = expected_regret(MAB2, T, \"NaiveStrat\", N)\n",
    "print(reg3)"
   ]
  },
  {
   "cell_type": "code",
   "execution_count": 12,
   "metadata": {},
   "outputs": [
    {
     "name": "stdout",
     "output_type": "stream",
     "text": [
      "Problem 2 with complexity : 3.147078426264685\n"
     ]
    },
    {
     "data": {
      "image/png": "[encoded data removed]",
      "text/plain": [
       "<Figure size 432x288 with 1 Axes>"
      ]
     },
     "metadata": {
      "needs_background": "light"
     },
     "output_type": "display_data"
    }
   ],
   "source": [
    "\"\"\"Display regret curves for problem 2\"\"\"\n",
    "\n",
    "c = problem_complexity(MAB2)\n",
    "oracle = [c*np.log(t) for t in x]\n",
    "\n",
    "print(\"Problem 2 with complexity :\", c)\n",
    "plt.figure(1)\n",
    "x = np.arange(1, T+1)\n",
    "\n",
    "plt.plot(x, reg1, label='UCB')\n",
    "plt.plot(x, reg2, label='TS')\n",
    "#plt.plot(x, reg3.cumsum(), label='Naive')\n",
    "plt.plot(x, oracle, label='Oracle')\n",
    "plt.legend()\n",
    "plt.xlabel('Rounds')\n",
    "plt.ylabel('Cumulative Regret')\n",
    "plt.title('Regret curves of problem 2')\n",
    "plt.show()"
   ]
  },
  {
   "cell_type": "markdown",
   "metadata": {},
   "source": [
    "The figures shows that the Cumulative regret for the Oracle and Thompson Sampling are greater in the problem with higher complexity. \n",
    "On the more complex problem, the cumulative regret of UCB1 becomes greater than the lower bound when T > 2300 . Otherwise, on the second problem, the cumulative regret of UCB1 becomes greater than the lower bound earlier ( T > 500 ).\n",
    "On the two problems, the cumulative regret of the Thompson sampling strategy is lower than the lower bound. "
   ]
  },
  {
   "cell_type": "markdown",
   "metadata": {},
   "source": [
    "### 1.2 Non-parametric bandits (bounded rewards)\n"
   ]
  },
  {
   "cell_type": "markdown",
   "metadata": {},
   "source": [
    "#### Question 2 :\n",
    "The method of Thompson sampling isn't very suited to arms that take continuous values. It returns the sampled reward of the arm if it is a Bernoulli arm. To make it works on the other arms that aren't Bernoulli, we draw a reward from a Bernoulli distribution with the sampled reward as a parameter\n",
    "\n",
    "The notion of complexity doesn't make sense anymore, because KL involvec in the computation of the complexity is only calculated for Bernouilli variables.\n"
   ]
  },
  {
   "cell_type": "code",
   "execution_count": 13,
   "metadata": {},
   "outputs": [],
   "source": [
    "def TS2(T,MAB):\n",
    "    \"\"\"    \n",
    "    Simulates a bandit game of length T with the Thompson Sampling strategy on the bandit model MAB.\n",
    "    Returns \"rew\": the sequence of the T rewards obtained\n",
    "        and \"draws\": the sequence the T the arms drawn.\n",
    "    \n",
    "    Parameters : \n",
    "    ==========\n",
    "        T : int, Rounds\n",
    "        MAB : list, List of arms \n",
    "    \"\"\" \n",
    "    # nbrA : number of arms\n",
    "    nbrA = len(MAB)\n",
    "    # List of the obtained rewards \n",
    "    rew = []\n",
    "    # List of drawn arms \n",
    "    draws = []\n",
    "    # Sum of arms rewards\n",
    "    sum_rew = [0] * nbrA\n",
    "    # Number of times each arm has been drawn \n",
    "    n_draws = [0] * nbrA\n",
    "    \n",
    "    for t in range(T):\n",
    "        # posterior distributions\n",
    "        scores = [np.random.beta(sum_rew[a] + 1, n_draws[a] - sum_rew[a] + 1) \n",
    "                  for a in range(nbrA)]\n",
    "        # Pull arm\n",
    "        # Arm to draw is the arm with the highest score \n",
    "        index_arm_draw = np.argmax(scores)\n",
    "        # Bernoulli trial \n",
    "        r = MAB[index_arm_draw].sample()\n",
    "        b = arms.ArmBernoulli(r)\n",
    "        reward = int(b.sample())\n",
    "\n",
    "        n_draws[index_arm_draw] += 1\n",
    "        sum_rew[index_arm_draw] += reward\n",
    "        draws.append(index_arm_draw)\n",
    "        rew.append(reward)\n",
    "    return rew, draws "
   ]
  },
  {
   "cell_type": "code",
   "execution_count": 14,
   "metadata": {},
   "outputs": [],
   "source": [
    "def expected_regret_TS2(MAB, T, N):\n",
    "    \"\"\"Based on many simulations on the MAB for strategy TS2, \n",
    "    it computes the mean regrets at each time.\n",
    "    It returns an array of mean regrets at each t in range(T)\n",
    "    \n",
    "    Parameters :\n",
    "    ===========\n",
    "    MAB : list, list of arms \n",
    "    T : int, Time horizon\n",
    "    N : int, number of simulations \n",
    "    \"\"\"\n",
    "    # best arm\n",
    "    means = [el.mean for el in MAB]\n",
    "    mu_max = np.max(means)\n",
    "    \n",
    "    \n",
    "    reg = np.zeros((N, T))\n",
    "    rew = np.zeros(T)\n",
    "    draws = np.zeros(T)\n",
    "\n",
    "    for k in tqdm(range(N), desc=\"Simulating TS2\"):\n",
    "\n",
    "        rew2, draws2 = TS2(T, MAB)\n",
    "        reg[k, :] = mu_max * np.arange(1, T + 1) - np.cumsum(rew2)\n",
    "\n",
    "    mean_regret = np.mean(reg, axis = 0)\n",
    "    return mean_regret"
   ]
  },
  {
   "cell_type": "code",
   "execution_count": 15,
   "metadata": {},
   "outputs": [],
   "source": [
    "# Non-parametric bandits\n",
    "\n",
    "# Random state\n",
    "rs = np.random.randint(1, 312414)\n",
    "\n",
    "arm1 = arms.ArmBernoulli(0.50, random_state=rs)\n",
    "arm2 = arms.ArmBeta(0.35, 0.2, random_state=rs)\n",
    "arm3 = arms.ArmExp(L=1, random_state=rs)\n",
    "arm4 = arms.ArmExp(L=1.5, random_state=rs)\n",
    "\n",
    "MAB = [arm1, arm2, arm3, arm4]\n",
    "\n"
   ]
  },
  {
   "cell_type": "code",
   "execution_count": 16,
   "metadata": {},
   "outputs": [
    {
     "name": "stderr",
     "output_type": "stream",
     "text": [
      "Simulating UCB1:   1%|          | 1/100 [00:00<00:12,  8.16it/s]"
     ]
    },
    {
     "name": "stdout",
     "output_type": "stream",
     "text": [
      "The expected regret of UCB1 after 100 simulations : \n"
     ]
    },
    {
     "name": "stderr",
     "output_type": "stream",
     "text": [
      "Simulating UCB1: 100%|██████████| 100/100 [00:15<00:00,  6.51it/s]\n",
      "Simulating TS2:   1%|          | 1/100 [00:00<00:14,  6.78it/s]"
     ]
    },
    {
     "name": "stdout",
     "output_type": "stream",
     "text": [
      "[1.06363636e-01 7.42727273e-01 1.37909091e+00 ... 6.87845455e+02\n",
      " 6.87881818e+02 6.88038182e+02]\n",
      "The expected regret of Thompson Sampling after 100 simulations : \n"
     ]
    },
    {
     "name": "stderr",
     "output_type": "stream",
     "text": [
      "Simulating TS2: 100%|██████████| 100/100 [00:15<00:00,  6.60it/s]\n",
      "Simulating NaiveStrat:   3%|▎         | 3/100 [00:00<00:03, 27.23it/s]"
     ]
    },
    {
     "name": "stdout",
     "output_type": "stream",
     "text": [
      "[ 0.33636364  0.62272727  0.76909091 ... 78.59545455 78.54181818\n",
      " 78.48818182]\n",
      "The expected regret of Naive strateg after 100 simulations : \n"
     ]
    },
    {
     "name": "stderr",
     "output_type": "stream",
     "text": [
      "Simulating NaiveStrat: 100%|██████████| 100/100 [00:04<00:00, 20.79it/s]"
     ]
    },
    {
     "name": "stdout",
     "output_type": "stream",
     "text": [
      "[-3.63636364e-01  2.72727273e-01 -9.09090909e-02 ...  1.18254545e+03\n",
      "  1.18318182e+03  1.18381818e+03]\n"
     ]
    },
    {
     "name": "stderr",
     "output_type": "stream",
     "text": [
      "\n"
     ]
    }
   ],
   "source": [
    "N = 100  # number of simulations \n",
    "# The expected regret of UCB1\n",
    "print (\"The expected regret of UCB1 after {} simulations : \".format(N))\n",
    "reg1 = expected_regret(MAB, T, \"UCB1\", N)\n",
    "print(reg1)\n",
    "# The expected regret of Thompson Sampling\n",
    "print (\"The expected regret of Thompson Sampling after {} simulations : \".format(N))\n",
    "reg2 = expected_regret_TS2(MAB, T, N)\n",
    "print(reg2)\n",
    "# The expected regret of Naive strategy\n",
    "print (\"The expected regret of Naive strateg after {} simulations : \".format(N))\n",
    "reg3 = expected_regret(MAB, T, \"NaiveStrat\", N)\n",
    "print(reg3)"
   ]
  },
  {
   "cell_type": "code",
   "execution_count": 17,
   "metadata": {},
   "outputs": [
    {
     "data": {
      "image/png": "[encoded data removed]",
      "text/plain": [
       "<Figure size 432x288 with 1 Axes>"
      ]
     },
     "metadata": {
      "needs_background": "light"
     },
     "output_type": "display_data"
    }
   ],
   "source": [
    "\"\"\"Display regret curves\"\"\"\n",
    "\n",
    "plt.figure(1)\n",
    "x = np.arange(1, T+1)\n",
    "plt.plot(x, reg1, label='UCB')\n",
    "plt.plot(x, reg2, label='TS2')\n",
    "plt.plot(x, reg3, label='Naive')\n",
    "plt.legend()\n",
    "plt.xlabel('Rounds')\n",
    "plt.ylabel('Cumulative Regret')\n",
    "plt.title('Regret curves ')\n",
    "plt.show()"
   ]
  },
  {
   "cell_type": "markdown",
   "metadata": {},
   "source": [
    "The naive strategy has the greatest cumulative regret, and the Thompson strategy has the smallest cumulative regret."
   ]
  },
  {
   "cell_type": "markdown",
   "metadata": {},
   "source": [
    "## 2 - Linear Bandit on Real Data"
   ]
  },
  {
   "cell_type": "markdown",
   "metadata": {},
   "source": [
    "### 2.1 - Linear Bandit"
   ]
  },
  {
   "cell_type": "markdown",
   "metadata": {},
   "source": [
    "### Question 3:"
   ]
  },
  {
   "cell_type": "code",
   "execution_count": 595,
   "metadata": {},
   "outputs": [],
   "source": [
    "def linUCB(model, T, nb_simu, alpha, lamb):\n",
    "    \"\"\" Linear Bandit Problem\n",
    "    It returns the mean regrets and the mean norms of the model \n",
    "    Parameters :\n",
    "    ============\n",
    "    model : class defined in linearmab_models.py \n",
    "    T : int , Time horizon\n",
    "    nb_simu : int, nombre de simulation\n",
    "    alpha : float\n",
    "    lamb : float \n",
    "    \"\"\"\n",
    "    nbrA = model.n_actions\n",
    "    nbrF = model.n_features\n",
    "\n",
    "    regret = np.zeros((nb_simu, T))\n",
    "    norm_dist = np.zeros((nb_simu, T))\n",
    "\n",
    "    F = model.features.T\n",
    "    I = np.identity(nbrF)\n",
    "    \n",
    "    for k in tqdm(range(nb_simu), desc=\"Simulating LinUCB\"):\n",
    "\n",
    "        Z = np.zeros((0,nbrF))\n",
    "        y = np.zeros((0)) \n",
    "\n",
    "        for t in range(T):\n",
    "\n",
    "            if len(Z) == 0 and len(y) == 0:\n",
    "                X = np.identity(nbrF)\n",
    "                Y = np.zeros(nbrF)\n",
    "            else:\n",
    "                X = np.dot(Z.T,Z) + lamb*I\n",
    "                Y = np.dot(Z.T,y)\n",
    "\n",
    "\n",
    "            theta_hat = np.dot(np.linalg.inv(X),Y)\n",
    "            \n",
    "            A = np.dot(F.T,theta_hat) \n",
    "            beta = alpha*np.sqrt(np.diag(np.dot(np.dot(F.T,np.linalg.inv(X)), F)))\n",
    "\n",
    "            a_t = np.argmax(A + beta)  # pick action\n",
    "            r_t = model.reward(a_t) # get the reward\n",
    "\n",
    "            Z = np.append(Z, [F[:,a_t].T], axis = 0)\n",
    "            y = np.append(y, r_t, axis = 0)\n",
    "\n",
    "            regret[k, t] = model.best_arm_reward() - r_t\n",
    "            norm_dist[k, t] = np.linalg.norm(theta_hat - model.real_theta, 2)\n",
    "\n",
    "    mean_norms = np.mean(norm_dist,axis = 0)\n",
    "    mean_regret = np.mean(regret,axis = 0)\n",
    "    \n",
    "    return mean_norms, mean_regret"
   ]
  },
  {
   "cell_type": "code",
   "execution_count": 619,
   "metadata": {},
   "outputs": [],
   "source": [
    "def linUCB(model, T, nb_simu, alpha, lamb):\n",
    "    \"\"\" Linear Bandit Problem\n",
    "    It returns the mean regrets and the mean norms of the model \n",
    "    Parameters :\n",
    "    ============\n",
    "    model : class defined in linearmab_models.py \n",
    "    T : int , Time horizon\n",
    "    nb_simu : int, nombre de simulation\n",
    "    alpha : float\n",
    "    lamb : float \n",
    "    \"\"\"\n",
    "    regret = np.zeros((nb_simu, T)) # regret at each iteration \n",
    "    norm_dist = np.zeros((nb_simu, T)) # \n",
    "    nbrF = model.n_features # number of features \n",
    "    nbrA = model.n_actions # number of actions \n",
    "    A = np.zeros(nbrA)\n",
    "\n",
    "    for k in tqdm(range(nb_simu), desc=\"Simulating LinUCB \"):\n",
    "        \n",
    "        # Initialization \n",
    "        X = lamb*np.identity(nbrF)   # Z_t.T*Z_t + lambda*Id\n",
    "        Y = np.zeros(nbrF)  #Z_t.T*y_t\n",
    "\n",
    "        for t in range(T):\n",
    "            theta_hat = np.dot(np.linalg.inv(X),Y).reshape(-1,1)\n",
    "            \n",
    "            for a in range(nbrA):\n",
    "                A[a] = np.dot(model.features[a,:], theta_hat) + alpha*np.sqrt(model.features[a,:].dot(np.linalg.inv(X)).dot(model.features[a,:].T))\n",
    "           \n",
    "            a_t = np.argmax(A )\n",
    "            \n",
    "            r_t = model.reward(a_t) # get the reward\n",
    "\n",
    "            F = model.features[a_t, :].reshape(-1,1)\n",
    "            X += F.dot(F.T)\n",
    "            Y += r_t*F.flatten()\n",
    "\n",
    "            # store regret\n",
    "            regret[k, t] = model.best_arm_reward() - r_t\n",
    "            norm_dist[k, t] = np.linalg.norm(theta_hat - model.real_theta, 2)\n",
    "\n",
    "    # compute average (over sim) of the algorithm performance and plot it\n",
    "    mean_norms =  np.mean(norm_dist, axis = 0)\n",
    "    mean_regrets = np.mean(regret, axis = 0)\n",
    "    \n",
    "    return mean_regrets, mean_norms\n"
   ]
  },
  {
   "cell_type": "code",
   "execution_count": 620,
   "metadata": {},
   "outputs": [],
   "source": [
    "def Random_policy(model, T, nb_simu, lamb):\n",
    "    \"\"\"   \"\"\"\n",
    "    regret = np.zeros((nb_simu, T)) # regret at each iteration \n",
    "    norm_dist = np.zeros((nb_simu, T)) # \n",
    "    nbrF = model.n_features # number of features \n",
    "\n",
    "    for k in tqdm(range(nb_simu), desc=\"Simulating Random policy \"):\n",
    "        \n",
    "        # Initialization \n",
    "        X = lamb*np.identity(nbrF)   # Z_t.T*Z_t + lambda*Id\n",
    "        Y = np.zeros(nbrF)  #Z_t.T*y_t\n",
    "        \n",
    "        \n",
    "        for t in range(T):\n",
    "            theta_hat = np.dot(np.linalg.inv(X),Y)\n",
    "            \n",
    "            a_t = np.random.randint(model.n_actions)  # random arm\n",
    "            r_t = model.reward(a_t) # get the reward\n",
    "\n",
    "            F = model.features[a_t, :].reshape(-1,1)\n",
    "            X += F.dot(F.T)\n",
    "            Y += r_t*F.flatten()\n",
    "\n",
    "            # store regret\n",
    "            regret[k, t] = model.best_arm_reward() - r_t\n",
    "            norm_dist[k, t] = np.linalg.norm(theta_hat - model.real_theta, 2)\n",
    "\n",
    "    # compute average (over sim) of the algorithm performance and plot it\n",
    "    mean_norms =  np.mean(norm_dist, axis = 0)\n",
    "    mean_regrets = np.mean(regret, axis = 0)\n",
    "    \n",
    "    return mean_regrets, mean_norms\n",
    "\n",
    "    "
   ]
  },
  {
   "cell_type": "code",
   "execution_count": 621,
   "metadata": {},
   "outputs": [],
   "source": [
    "def epsilon_greedy(model, T, nb_simu, epsilon, lamb):\n",
    "    \"\"\"   \"\"\"\n",
    "    regret = np.zeros((nb_simu, T)) # regret at each iteration \n",
    "    norm_dist = np.zeros((nb_simu, T)) # \n",
    "    nbrF = model.n_features # number of features \n",
    "\n",
    "    for k in tqdm(range(nb_simu), desc=\"Simulating $\\epsilon$-greedy \"):\n",
    "        \n",
    "        # Initialization \n",
    "        X = lamb*np.identity(nbrF)   # Z_t.T*Z_t + lambda*Id\n",
    "        Y = np.zeros(nbrF)  #Z_t.T*y_t\n",
    "        \n",
    "        \n",
    "        for t in range(T):\n",
    "            theta_hat = np.dot(np.linalg.inv(X),Y)\n",
    "            \n",
    "            # chooses a random arm with probability epsilon and the optimal\n",
    "            # arm with probability 1-epsilon\n",
    "            r = random.random()\n",
    "            if r < epsilon:\n",
    "                a_t = np.random.randint(model.n_actions)\n",
    "            else:\n",
    "                a_t = np.argmax(np.dot(model.features, theta_hat))\n",
    "            \n",
    "            r_t = model.reward(a_t) # get the reward\n",
    "\n",
    "            F = model.features[a_t, :].reshape(-1,1)\n",
    "            X += F.dot(F.T)\n",
    "            Y += r_t*F.flatten()\n",
    "\n",
    "            # store regret\n",
    "            regret[k, t] = model.best_arm_reward() - r_t\n",
    "            norm_dist[k, t] = np.linalg.norm(theta_hat - model.real_theta, 2)\n",
    "\n",
    "    # compute average (over sim) of the algorithm performance and plot it\n",
    "    mean_norms =  np.mean(norm_dist, axis = 0)\n",
    "    mean_regrets = np.mean(regret, axis = 0)\n",
    "    \n",
    "    return mean_regrets, mean_norms\n",
    "\n"
   ]
  },
  {
   "cell_type": "code",
   "execution_count": 622,
   "metadata": {},
   "outputs": [],
   "source": [
    "from linearmab_models import ToyLinearModel, ColdStartMovieLensModel\n",
    "\n",
    "random_state = np.random.randint(0, 24532523)\n",
    "\n",
    "model = ColdStartMovieLensModel(random_state=random_state,noise=0.1)\n"
   ]
  },
  {
   "cell_type": "code",
   "execution_count": 623,
   "metadata": {},
   "outputs": [],
   "source": [
    "T = 6000\n",
    "nb_simu = 10\n",
    "alpha = 50\n",
    "lamb = 10\n",
    "epsilon = 0.1"
   ]
  },
  {
   "cell_type": "code",
   "execution_count": null,
   "metadata": {
    "scrolled": true
   },
   "outputs": [
    {
     "name": "stderr",
     "output_type": "stream",
     "text": [
      "\n",
      "\n",
      "\n",
      "\n",
      "\n",
      "\n",
      "Simulating LinUCB :   0%|          | 0/10 [00:00<?, ?it/s]\u001b[A\u001b[A\u001b[A\u001b[A\u001b[A\u001b[A"
     ]
    }
   ],
   "source": [
    "mean_regrets1, mean_norm1 = linUCB(model, T, nb_simu,alpha, lamb)\n"
   ]
  },
  {
   "cell_type": "code",
   "execution_count": 609,
   "metadata": {},
   "outputs": [
    {
     "name": "stdout",
     "output_type": "stream",
     "text": [
      "[ 3.21205857e+01  1.89253834e+01  1.49197640e+01 ... -2.64042828e-02\n",
      " -2.15478977e-02 -2.38898055e-02]\n"
     ]
    }
   ],
   "source": [
    "print(mean_norm1)"
   ]
  },
  {
   "cell_type": "code",
   "execution_count": 602,
   "metadata": {},
   "outputs": [
    {
     "name": "stderr",
     "output_type": "stream",
     "text": [
      "\n",
      "\n",
      "\n",
      "\n",
      "\n",
      "\n",
      "Simulating Random policy :   0%|          | 0/10 [00:00<?, ?it/s]\u001b[A\u001b[A\u001b[A\u001b[A\u001b[A\u001b[A\n",
      "\n",
      "\n",
      "\n",
      "\n",
      "\n",
      "Simulating Random policy :  10%|█         | 1/10 [00:00<00:05,  1.64it/s]\u001b[A\u001b[A\u001b[A\u001b[A\u001b[A\u001b[A\n",
      "\n",
      "\n",
      "\n",
      "\n",
      "\n",
      "Simulating Random policy :  20%|██        | 2/10 [00:01<00:04,  1.60it/s]\u001b[A\u001b[A\u001b[A\u001b[A\u001b[A\u001b[A\n",
      "\n",
      "\n",
      "\n",
      "\n",
      "\n",
      "Simulating Random policy :  30%|███       | 3/10 [00:01<00:04,  1.63it/s]\u001b[A\u001b[A\u001b[A\u001b[A\u001b[A\u001b[A\n",
      "\n",
      "\n",
      "\n",
      "\n",
      "\n",
      "Simulating Random policy :  40%|████      | 4/10 [00:02<00:03,  1.65it/s]\u001b[A\u001b[A\u001b[A\u001b[A\u001b[A\u001b[A\n",
      "\n",
      "\n",
      "\n",
      "\n",
      "\n",
      "Simulating Random policy :  50%|█████     | 5/10 [00:03<00:03,  1.65it/s]\u001b[A\u001b[A\u001b[A\u001b[A\u001b[A\u001b[A\n",
      "\n",
      "\n",
      "\n",
      "\n",
      "\n",
      "Simulating Random policy :  60%|██████    | 6/10 [00:03<00:02,  1.67it/s]\u001b[A\u001b[A\u001b[A\u001b[A\u001b[A\u001b[A\n",
      "\n",
      "\n",
      "\n",
      "\n",
      "\n",
      "Simulating Random policy :  70%|███████   | 7/10 [00:04<00:01,  1.68it/s]\u001b[A\u001b[A\u001b[A\u001b[A\u001b[A\u001b[A\n",
      "\n",
      "\n",
      "\n",
      "\n",
      "\n",
      "Simulating Random policy :  80%|████████  | 8/10 [00:04<00:01,  1.67it/s]\u001b[A\u001b[A\u001b[A\u001b[A\u001b[A\u001b[A\n",
      "\n",
      "\n",
      "\n",
      "\n",
      "\n",
      "Simulating Random policy :  90%|█████████ | 9/10 [00:05<00:00,  1.69it/s]\u001b[A\u001b[A\u001b[A\u001b[A\u001b[A\u001b[A\n",
      "\n",
      "\n",
      "\n",
      "\n",
      "\n",
      "Simulating Random policy : 100%|██████████| 10/10 [00:06<00:00,  1.68it/s]\u001b[A\u001b[A\u001b[A\u001b[A\u001b[A\u001b[A\n",
      "\n",
      "\n",
      "\n",
      "\n",
      "\n",
      "\u001b[A\u001b[A\u001b[A\u001b[A\u001b[A\u001b[A\n",
      "\n",
      "\n",
      "\n",
      "\n",
      "\n",
      "Simulating $\\epsilon$-greedy :   0%|          | 0/10 [00:00<?, ?it/s]\u001b[A\u001b[A\u001b[A\u001b[A\u001b[A\u001b[A\n",
      "\n",
      "\n",
      "\n",
      "\n",
      "\n",
      "Simulating $\\epsilon$-greedy :  10%|█         | 1/10 [00:00<00:05,  1.58it/s]\u001b[A\u001b[A\u001b[A\u001b[A\u001b[A\u001b[A\n",
      "\n",
      "\n",
      "\n",
      "\n",
      "\n",
      "Simulating $\\epsilon$-greedy :  20%|██        | 2/10 [00:01<00:05,  1.51it/s]\u001b[A\u001b[A\u001b[A\u001b[A\u001b[A\u001b[A\n",
      "\n",
      "\n",
      "\n",
      "\n",
      "\n",
      "Simulating $\\epsilon$-greedy :  30%|███       | 3/10 [00:02<00:04,  1.46it/s]\u001b[A\u001b[A\u001b[A\u001b[A\u001b[A\u001b[A\n",
      "\n",
      "\n",
      "\n",
      "\n",
      "\n",
      "Simulating $\\epsilon$-greedy :  40%|████      | 4/10 [00:02<00:04,  1.37it/s]\u001b[A\u001b[A\u001b[A\u001b[A\u001b[A\u001b[A\n",
      "\n",
      "\n",
      "\n",
      "\n",
      "\n",
      "Simulating $\\epsilon$-greedy :  50%|█████     | 5/10 [00:03<00:03,  1.32it/s]\u001b[A\u001b[A\u001b[A\u001b[A\u001b[A\u001b[A\n",
      "\n",
      "\n",
      "\n",
      "\n",
      "\n",
      "Simulating $\\epsilon$-greedy :  60%|██████    | 6/10 [00:04<00:02,  1.34it/s]\u001b[A\u001b[A\u001b[A\u001b[A\u001b[A\u001b[A\n",
      "\n",
      "\n",
      "\n",
      "\n",
      "\n",
      "Simulating $\\epsilon$-greedy :  70%|███████   | 7/10 [00:05<00:02,  1.34it/s]\u001b[A\u001b[A\u001b[A\u001b[A\u001b[A\u001b[A\n",
      "\n",
      "\n",
      "\n",
      "\n",
      "\n",
      "Simulating $\\epsilon$-greedy :  80%|████████  | 8/10 [00:05<00:01,  1.38it/s]\u001b[A\u001b[A\u001b[A\u001b[A\u001b[A\u001b[A\n",
      "\n",
      "\n",
      "\n",
      "\n",
      "\n",
      "Simulating $\\epsilon$-greedy :  90%|█████████ | 9/10 [00:06<00:00,  1.38it/s]\u001b[A\u001b[A\u001b[A\u001b[A\u001b[A\u001b[A\n",
      "\n",
      "\n",
      "\n",
      "\n",
      "\n",
      "Simulating $\\epsilon$-greedy : 100%|██████████| 10/10 [00:07<00:00,  1.40it/s]\u001b[A\u001b[A\u001b[A\u001b[A\u001b[A\u001b[A\n",
      "\n",
      "\n",
      "\n",
      "\n",
      "\n",
      "\u001b[A\u001b[A\u001b[A\u001b[A\u001b[A\u001b[A"
     ]
    }
   ],
   "source": [
    "mean_regrets2, mean_norm2 = Random_policy(model, T, nb_simu, lamb)\n",
    "mean_regrets3, mean_norm3 = epsilon_greedy(model, T, nb_simu, epsilon, lamb)"
   ]
  },
  {
   "cell_type": "code",
   "execution_count": 603,
   "metadata": {},
   "outputs": [
    {
     "data": {
      "text/plain": [
       "<matplotlib.legend.Legend at 0x123075ac8>"
      ]
     },
     "execution_count": 603,
     "metadata": {},
     "output_type": "execute_result"
    },
    {
     "data": {
      "image/png": "[encoded data removed]",
      "text/plain": [
       "<Figure size 432x288 with 1 Axes>"
      ]
     },
     "metadata": {
      "needs_background": "light"
     },
     "output_type": "display_data"
    }
   ],
   "source": [
    "\n",
    "plt.plot(mean_norm1, label='linUCB')\n",
    "plt.plot(mean_norm2, label='Random')\n",
    "plt.plot(mean_norm3, label='$\\epsilon$-greedy')\n",
    "plt.ylabel('d(theta, theta_hat)')\n",
    "plt.xlabel('Rounds')\n",
    "plt.legend()\n",
    "\n"
   ]
  },
  {
   "cell_type": "code",
   "execution_count": 604,
   "metadata": {},
   "outputs": [
    {
     "data": {
      "image/png": "[encoded data removed]",
      "text/plain": [
       "<Figure size 432x288 with 1 Axes>"
      ]
     },
     "metadata": {
      "needs_background": "light"
     },
     "output_type": "display_data"
    }
   ],
   "source": [
    "plt.plot(mean_regrets1.cumsum(), label='linUCB')\n",
    "plt.plot(mean_regrets2.cumsum(), label='Random')\n",
    "plt.plot(mean_regrets3.cumsum(), label='$\\epsilon$-greedy')\n",
    "plt.ylabel('Cumulative Regret')\n",
    "plt.xlabel('Rounds')\n",
    "plt.legend()\n",
    "plt.show()"
   ]
  },
  {
   "cell_type": "markdown",
   "metadata": {},
   "source": [
    "The random strategy converges faster than the other strategies. The linUCB algorithm doesn't converge to the real $\\theta$."
   ]
  },
  {
   "cell_type": "markdown",
   "metadata": {},
   "source": [
    "The linUCB has the lower cumulative regrets. And the random strategy has the highest cumulative regret. "
   ]
  },
  {
   "cell_type": "code",
   "execution_count": null,
   "metadata": {},
   "outputs": [],
   "source": []
  }
 ],
 "metadata": {
  "kernelspec": {
   "display_name": "Python 3",
   "language": "python",
   "name": "python3"
  },
  "language_info": {
   "codemirror_mode": {
    "name": "ipython",
    "version": 3
   },
   "file_extension": ".py",
   "mimetype": "text/x-python",
   "name": "python",
   "nbconvert_exporter": "python",
   "pygments_lexer": "ipython3",
   "version": "3.7.0"
  }
 },
 "nbformat": 4,
 "nbformat_minor": 2
}
