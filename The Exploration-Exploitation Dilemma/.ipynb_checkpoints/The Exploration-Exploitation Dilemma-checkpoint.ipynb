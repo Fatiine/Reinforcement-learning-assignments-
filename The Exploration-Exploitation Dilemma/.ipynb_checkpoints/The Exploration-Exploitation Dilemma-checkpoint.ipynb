{
 "cells": [
  {
   "cell_type": "markdown",
   "metadata": {},
   "source": [
    "# Assignement 2 : The Exploration-Exploitation Dilemma"
   ]
  },
  {
   "cell_type": "markdown",
   "metadata": {},
   "source": [
    "## 1 - Stochastic Multi-Armed Bandits on Simulated Data"
   ]
  },
  {
   "cell_type": "markdown",
   "metadata": {},
   "source": [
    "### 1.1 Bernoulli bandit models"
   ]
  },
  {
   "cell_type": "code",
   "execution_count": 36,
   "metadata": {},
   "outputs": [],
   "source": [
    "# Imports \n",
    "import numpy as np \n",
    "import arms\n",
    "from tqdm import tqdm\n",
    "import matplotlib.pyplot as plt\n",
    "import random\n"
   ]
  },
  {
   "cell_type": "code",
   "execution_count": 2,
   "metadata": {},
   "outputs": [],
   "source": [
    "# Defining our own Bernoulli bandit model with 4 arms \n",
    "\n",
    "# Random state\n",
    "rs = np.random.randint(1, 312414)\n",
    "\n",
    "# Bernouilli Bandit \n",
    "arm1 = arms.ArmBernoulli(0.50, random_state=rs)\n",
    "arm2 = arms.ArmBernoulli(0.35, random_state=rs)\n",
    "arm3 = arms.ArmBernoulli(0.40, random_state=rs)\n",
    "arm4 = arms.ArmBernoulli(0.25, random_state=rs)\n",
    "\n",
    "arm5 = arms.ArmBernoulli(0.45, random_state=rs)\n",
    "arm6 = arms.ArmBernoulli(0.65, random_state=rs)\n",
    "arm7 = arms.ArmBernoulli(0.15, random_state=rs)\n",
    "arm8 = arms.ArmBernoulli(0.85, random_state=rs)\n",
    "\n",
    "MAB1 = [arm1, arm2, arm3, arm4]\n",
    "MAB2 = [arm5, arm6, arm7, arm8]\n"
   ]
  },
  {
   "cell_type": "code",
   "execution_count": 3,
   "metadata": {},
   "outputs": [],
   "source": [
    "def sampled_reward(arm):\n",
    "    \"\"\"Get reward 1 if the arm is a Bernoulli arm \n",
    "    and 0 if it isn't\n",
    "    \"\"\"\n",
    "    if isinstance(arm, arms.ArmBernoulli):\n",
    "        return int(arm.sample())\n",
    "    else:\n",
    "        return int(arms.ArmBernoulli(arm))"
   ]
  },
  {
   "cell_type": "code",
   "execution_count": 4,
   "metadata": {},
   "outputs": [],
   "source": [
    "def UCB1(T, MAB, rho=0.2 ):\n",
    "    \"\"\"\n",
    "    Simulates a bandit game of length T with the UCB1 strategy on the bandit model MAB.\n",
    "    Returns \"rew\": the sequence of the T rewards obtained\n",
    "        and \"draws\":  the sequence the T the arms drawn.\n",
    "    \n",
    "    Parameters : \n",
    "    ==========\n",
    "        T : int , Rounds\n",
    "        MAB : list , List of arms \n",
    "        ro : float, \n",
    "    \"\"\" \n",
    "    # nbrA : number of arms\n",
    "    nbrA = len(MAB)\n",
    "    # List of the obtained rewards \n",
    "    rew = []\n",
    "    # List of drawn arms \n",
    "    draws = []\n",
    "    # Sum of arms rewards\n",
    "    sum_rew = [0] * nbrA\n",
    "    # Number of times each arm has been drawn \n",
    "    n_draws = [0] * nbrA\n",
    "    \n",
    "    # Initialise first phase : Play each arm once\n",
    "    for i in range(nbrA):\n",
    "        reward = sampled_reward(MAB[i])\n",
    "        n_draws[i] += 1\n",
    "        sum_rew[i] += reward\n",
    "        draws.append(i)\n",
    "        rew.append(reward)\n",
    "        \n",
    "    # Other drawings until time T\n",
    "    for t in range(nbrA, T):\n",
    "        # optimistic scores of the arms at time t\n",
    "        optimistic_scores = np.array([sum_rew[a]/n_draws[a] + rho*np.sqrt(np.log(t)/(2*n_draws[a])) \n",
    "                           for a in range(nbrA)])\n",
    "\n",
    "        # Pull arm\n",
    "        # Arm to draw is the arm with the highest score \n",
    "        index_arm_draw = np.argmax(optimistic_scores)\n",
    "        \n",
    "        reward = sampled_reward(MAB[index_arm_draw])\n",
    "        n_draws[index_arm_draw] += 1\n",
    "        sum_rew[index_arm_draw] += reward\n",
    "        draws.append(index_arm_draw)\n",
    "        rew.append(reward)\n",
    "    return rew, draws        "
   ]
  },
  {
   "cell_type": "code",
   "execution_count": 5,
   "metadata": {},
   "outputs": [],
   "source": [
    "def TS(T,MAB):\n",
    "    \"\"\"    \n",
    "    Simulates a bandit game of length T with the Thompson Sampling strategy on the bandit model MAB.\n",
    "    Returns \"rew\": the sequence of the T rewards obtained\n",
    "        and \"draws\": the sequence the T the arms drawn.\n",
    "    \n",
    "    Parameters : \n",
    "    ==========\n",
    "        T : int, Rounds\n",
    "        MAB : list, List of arms \n",
    "    \"\"\" \n",
    "    # nbrA : number of arms\n",
    "    nbrA = len(MAB)\n",
    "    # List of the obtained rewards \n",
    "    rew = []\n",
    "    # List of drawn arms \n",
    "    draws = []\n",
    "    # Sum of arms rewards\n",
    "    sum_rew = [0] * nbrA\n",
    "    # Number of times each arm has been drawn \n",
    "    n_draws = [0] * nbrA\n",
    "    \n",
    "    for t in range(T):\n",
    "        # posterior distributions\n",
    "        scores = [np.random.beta(sum_rew[a] + 1, n_draws[a] - sum_rew[a] + 1) \n",
    "                  for a in range(nbrA)]\n",
    "        # Pull arm\n",
    "        # Arm to draw is the arm with the highest score \n",
    "        index_arm_draw = np.argmax(scores)\n",
    "        \n",
    "        reward = sampled_reward(MAB[index_arm_draw])\n",
    "        n_draws[index_arm_draw] += 1\n",
    "        sum_rew[index_arm_draw] += reward\n",
    "        draws.append(index_arm_draw)\n",
    "        rew.append(reward)\n",
    "    return rew, draws "
   ]
  },
  {
   "cell_type": "code",
   "execution_count": 6,
   "metadata": {},
   "outputs": [],
   "source": [
    "def NaiveStrat(T, MAB):\n",
    "    \"\"\"    \n",
    "    Simulates a bandit game of length T with the Naive strategy on the bandit model MAB.\n",
    "    Returns \"rew\": the sequence of the T rewards obtained\n",
    "        and \"draws\": the sequence the T the arms drawn.\n",
    "    \n",
    "    Parameters : \n",
    "    ==========\n",
    "        T : int, Rounds\n",
    "        MAB : list, List of arms \n",
    "    \"\"\"\n",
    "    # nbrA : number of arms\n",
    "    nbrA = len(MAB)\n",
    "    # List of the obtained rewards \n",
    "    rew = []\n",
    "    # List of drawn arms \n",
    "    draws = []\n",
    "    # Sum of arms rewards\n",
    "    sum_rew = [0] * nbrA\n",
    "    # Number of times each arm has been drawn \n",
    "    n_draws = [0] * nbrA\n",
    "    \n",
    "    # Initialise first phase : Play each arm once\n",
    "    for i in range(nbrA):\n",
    "        reward = sampled_reward(MAB[i])\n",
    "        n_draws[i] += 1\n",
    "        sum_rew[i] += reward\n",
    "        draws.append(i)\n",
    "        rew.append(reward)\n",
    "        \n",
    "    # Other drawings until time T\n",
    "    for t in range(nbrA, T):\n",
    "        # Empirical best arm \n",
    "        scores = np.array([sum_rew[a]/n_draws[a] for a in range(nbrA)])\n",
    "        # Pull arm\n",
    "        # Arm to draw is the arm with the highest score \n",
    "        index_arm_draw = np.argmax(scores)\n",
    "        \n",
    "        reward = sampled_reward(MAB[index_arm_draw])\n",
    "        n_draws[index_arm_draw] += 1\n",
    "        sum_rew[index_arm_draw] += reward\n",
    "        draws.append(index_arm_draw)\n",
    "        rew.append(reward)\n",
    "    return rew, draws  "
   ]
  },
  {
   "cell_type": "code",
   "execution_count": 7,
   "metadata": {},
   "outputs": [],
   "source": [
    "\"\"\"Simulating a bandit game of length T with the UCB1 and Thompson Sampling\n",
    "strategy on the bandit model MAB: rew and draws are the sequence of the\n",
    "T rewards obtained and of the T the arms drawn.\"\"\"\n",
    "T = 5000  # horizon\n",
    "\n",
    "rew1, draws1 = UCB1(T, MAB1)\n",
    "rew2, draws2 = TS(T, MAB1)\n",
    "rew3, draws3 = NaiveStrat(T, MAB1)\n"
   ]
  },
  {
   "cell_type": "code",
   "execution_count": 8,
   "metadata": {},
   "outputs": [],
   "source": [
    "def expected_regret(MAB, T, strategy, N):\n",
    "    \"\"\"Based on many simulations on the MAB for a given strategy, \n",
    "    it computes the mean regrets at each time.\n",
    "    It returns an array of mean regrets at each t in range(T)\n",
    "    \n",
    "    Parameters :\n",
    "    ===========\n",
    "    MAB : list, list of arms \n",
    "    T : int, Time horizon\n",
    "    strategy : str, \"UCB1\" or \"TS\" ( Thompson Sampling)\n",
    "    N : int, number of simulations \n",
    "    \"\"\"\n",
    "    # best arm\n",
    "    means = [el.mean for el in MAB]\n",
    "    mu_max = np.max(means)\n",
    "    \n",
    "    \n",
    "    reg = np.zeros((N, T))\n",
    "    rew = np.zeros(T)\n",
    "    draws = np.zeros(T)\n",
    "\n",
    "    for k in tqdm(range(N), desc=\"Simulating {}\".format(strategy)):\n",
    "        if strategy == \"UCB1\":\n",
    "            rew1, draws1 = UCB1(T, MAB)\n",
    "            reg[k, :] = mu_max * np.arange(1, T + 1) - np.cumsum(rew1) \n",
    "        \n",
    "        elif strategy == \"TS\":\n",
    "            rew2, draws2 = TS(T, MAB)\n",
    "            reg[k, :] = mu_max * np.arange(1, T + 1) - np.cumsum(rew2)\n",
    "        \n",
    "        elif strategy == \"NaiveStrat\":\n",
    "            rew3, draws3 == NaiveStrat(T, MAB)\n",
    "            reg[k, :] =  mu_max * np.arange(1, T + 1) - np.cumsum(rew3) \n",
    "            \n",
    "    mean_regret = np.mean(reg, axis = 0)\n",
    "    return mean_regret"
   ]
  },
  {
   "cell_type": "code",
   "execution_count": 9,
   "metadata": {},
   "outputs": [],
   "source": [
    "def kl(x, y):\n",
    "    return x*np.log(x/y) + (1-x)*np.log((1-x)/(1-y))\n",
    "\n",
    "def problem_complexity(MAB):\n",
    "    means = [arm.mean for arm in MAB]\n",
    "    p1 = max(means)\n",
    "    c = sum((p1-p)/(kl(p, p1)) for p in means if p != p1)\n",
    "    return c\n",
    "    "
   ]
  },
  {
   "cell_type": "markdown",
   "metadata": {},
   "source": [
    "#### Question 1:"
   ]
  },
  {
   "cell_type": "code",
   "execution_count": 10,
   "metadata": {},
   "outputs": [
    {
     "name": "stderr",
     "output_type": "stream",
     "text": [
      "Simulating UCB1:   1%|          | 1/100 [00:00<00:14,  6.96it/s]"
     ]
    },
    {
     "name": "stdout",
     "output_type": "stream",
     "text": [
      "The expected regret of UCB1 after 100 simulations : \n"
     ]
    },
    {
     "name": "stderr",
     "output_type": "stream",
     "text": [
      "Simulating UCB1: 100%|██████████| 100/100 [00:15<00:00,  6.19it/s]\n",
      "Simulating TS:   2%|▏         | 2/100 [00:00<00:08, 11.18it/s]"
     ]
    },
    {
     "name": "stdout",
     "output_type": "stream",
     "text": [
      "[6.0000e-02 2.5000e-01 3.7000e-01 ... 1.8390e+02 1.8390e+02 1.8391e+02]\n",
      "The expected regret of Thompson Sampling after 100 simulations : \n"
     ]
    },
    {
     "name": "stderr",
     "output_type": "stream",
     "text": [
      "Simulating TS: 100%|██████████| 100/100 [00:08<00:00, 11.37it/s]\n",
      "Simulating NaiveStrat:   2%|▏         | 2/100 [00:00<00:05, 18.70it/s]"
     ]
    },
    {
     "name": "stdout",
     "output_type": "stream",
     "text": [
      "[ 0.1   0.21  0.23 ... 48.23 48.27 48.18]\n",
      "The expected regret of Naive strateg after 100 simulations : \n"
     ]
    },
    {
     "name": "stderr",
     "output_type": "stream",
     "text": [
      "Simulating NaiveStrat: 100%|██████████| 100/100 [00:05<00:00, 17.25it/s]"
     ]
    },
    {
     "name": "stdout",
     "output_type": "stream",
     "text": [
      "[5.000e-01 0.000e+00 5.000e-01 ... 7.670e+02 7.665e+02 7.670e+02]\n"
     ]
    },
    {
     "name": "stderr",
     "output_type": "stream",
     "text": [
      "\n"
     ]
    }
   ],
   "source": [
    "\"\"\" Based on many simulations, estimate the expected regret of \n",
    "UCB1 and Thompson Sampling \"\"\"\n",
    "N = 100  # number of simulations \n",
    "# The expected regret of UCB1\n",
    "print (\"The expected regret of UCB1 after {} simulations : \".format(N))\n",
    "reg1 = expected_regret(MAB1, T, \"UCB1\", N)\n",
    "print(reg1)\n",
    "# The expected regret of Thompson Sampling\n",
    "print (\"The expected regret of Thompson Sampling after {} simulations : \".format(N))\n",
    "reg2 = expected_regret(MAB1, T, \"TS\", N)\n",
    "print(reg2)\n",
    "# The expected regret of Naive strategy\n",
    "print (\"The expected regret of Naive strateg after {} simulations : \".format(N))\n",
    "reg3 = expected_regret(MAB1, T, \"NaiveStrat\", N)\n",
    "print(reg3)"
   ]
  },
  {
   "cell_type": "code",
   "execution_count": 12,
   "metadata": {},
   "outputs": [
    {
     "name": "stdout",
     "output_type": "stream",
     "text": [
      "Problem 1 with complexity : 10.159725560246056\n"
     ]
    },
    {
     "data": {
      "image/png": "[encoded data removed]",
      "text/plain": [
       "<Figure size 432x288 with 1 Axes>"
      ]
     },
     "metadata": {
      "needs_background": "light"
     },
     "output_type": "display_data"
    }
   ],
   "source": [
    "\"\"\"Display regret curves for problem 1\"\"\"\n",
    "\n",
    "x = np.arange(1, T+1)\n",
    "c = problem_complexity(MAB1)\n",
    "oracle = [c*np.log(t) for t in x]\n",
    "\n",
    "print(\"Problem 1 with complexity :\", c)\n",
    "plt.figure(1)\n",
    "\n",
    "\n",
    "plt.plot(x, reg1.cumsum(), label='UCB')\n",
    "plt.plot(x, reg2.cumsum(), label='Thompson')\n",
    "plt.plot(x, reg3.cumsum(), label='Naive')\n",
    "plt.plot(x, oracle, label='Oracle')\n",
    "plt.legend()\n",
    "plt.xlabel('Rounds')\n",
    "plt.ylabel('Cumulative Regret')\n",
    "plt.title('Regret curves of problem 1')\n",
    "plt.show()"
   ]
  },
  {
   "cell_type": "code",
   "execution_count": 13,
   "metadata": {},
   "outputs": [
    {
     "name": "stderr",
     "output_type": "stream",
     "text": [
      "Simulating UCB1:   1%|          | 1/100 [00:00<00:12,  8.21it/s]"
     ]
    },
    {
     "name": "stdout",
     "output_type": "stream",
     "text": [
      "The expected regret of UCB1 after 100 simulations : \n"
     ]
    },
    {
     "name": "stderr",
     "output_type": "stream",
     "text": [
      "Simulating UCB1: 100%|██████████| 100/100 [00:16<00:00,  5.85it/s]\n",
      "Simulating TS:   2%|▏         | 2/100 [00:00<00:08, 11.20it/s]"
     ]
    },
    {
     "name": "stdout",
     "output_type": "stream",
     "text": [
      "[  0.38   0.58   1.36 ... 196.74 196.82 196.93]\n",
      "The expected regret of Thompson Sampling after 100 simulations : \n"
     ]
    },
    {
     "name": "stderr",
     "output_type": "stream",
     "text": [
      "Simulating TS: 100%|██████████| 100/100 [00:09<00:00,  6.23it/s]\n",
      "Simulating NaiveStrat:   2%|▏         | 2/100 [00:00<00:08, 11.57it/s]"
     ]
    },
    {
     "name": "stdout",
     "output_type": "stream",
     "text": [
      "[ 0.24  0.56  0.91 ... 22.01 22.08 22.04]\n",
      "The expected regret of Naive strateg after 100 simulations : \n"
     ]
    },
    {
     "name": "stderr",
     "output_type": "stream",
     "text": [
      "Simulating NaiveStrat: 100%|██████████| 100/100 [00:05<00:00, 18.61it/s]"
     ]
    },
    {
     "name": "stdout",
     "output_type": "stream",
     "text": [
      "[8.50000e-01 7.00000e-01 1.55000e+00 ... 2.51630e+03 2.51615e+03\n",
      " 2.51700e+03]\n"
     ]
    },
    {
     "name": "stderr",
     "output_type": "stream",
     "text": [
      "\n"
     ]
    }
   ],
   "source": [
    "\"\"\" Based on many simulations, estimate the expected regret of \n",
    "UCB1 and Thompson Sampling \"\"\"\n",
    "# The expected regret of UCB1\n",
    "print (\"The expected regret of UCB1 after {} simulations : \".format(N))\n",
    "reg1 = expected_regret(MAB2, T, \"UCB1\", N)\n",
    "print(reg1)\n",
    "# The expected regret of Thompson Sampling\n",
    "print (\"The expected regret of Thompson Sampling after {} simulations : \".format(N))\n",
    "reg2 = expected_regret(MAB2, T, \"TS\", N)\n",
    "print(reg2)\n",
    "# The expected regret of Naive strategy\n",
    "print (\"The expected regret of Naive strateg after {} simulations : \".format(N))\n",
    "reg3 = expected_regret(MAB2, T, \"NaiveStrat\", N)\n",
    "print(reg3)"
   ]
  },
  {
   "cell_type": "code",
   "execution_count": 14,
   "metadata": {},
   "outputs": [
    {
     "name": "stdout",
     "output_type": "stream",
     "text": [
      "Problem 2 with complexity : 3.147078426264685\n"
     ]
    },
    {
     "data": {
      "image/png": "[encoded data removed]",
      "text/plain": [
       "<Figure size 432x288 with 1 Axes>"
      ]
     },
     "metadata": {
      "needs_background": "light"
     },
     "output_type": "display_data"
    }
   ],
   "source": [
    "\"\"\"Display regret curves for problem 2\"\"\"\n",
    "\n",
    "c = problem_complexity(MAB2)\n",
    "oracle = [c*np.log(t) for t in x]\n",
    "\n",
    "print(\"Problem 2 with complexity :\", c)\n",
    "plt.figure(1)\n",
    "x = np.arange(1, T+1)\n",
    "\n",
    "plt.plot(x, reg1.cumsum(), label='UCB')\n",
    "plt.plot(x, reg2.cumsum(), label='Thompson')\n",
    "plt.plot(x, reg3.cumsum(), label='Naive')\n",
    "plt.plot(x, oracle, label='Oracle')\n",
    "plt.legend()\n",
    "plt.xlabel('Rounds')\n",
    "plt.ylabel('Cumulative Regret')\n",
    "plt.title('Regret curves of problem 2')\n",
    "plt.show()"
   ]
  },
  {
   "cell_type": "markdown",
   "metadata": {},
   "source": [
    "The two plots shows that the cumulative regret for UCB1 and Thompson strategies are always greater than the Lai and Robbins lower bound.\n",
    "We notice also that in two problems, UCB strategy has always greater cumulative regret than Thompson strategy.\n",
    "In the more complex problem ( problem 1), the UCB and Thompson strategies has greater cumulative regret than the naive strategy, but on the less complex problem ( problem 2) we see the inverse. "
   ]
  },
  {
   "cell_type": "markdown",
   "metadata": {},
   "source": [
    "### 1.2 Non-parametric bandits (bounded rewards)\n"
   ]
  },
  {
   "cell_type": "markdown",
   "metadata": {},
   "source": [
    "#### Question 2 :\n",
    "The method of Thompson sampling isn't very suited to arms that take non-binary values. \n",
    "To make it works on the non-parametric bandits, we redefined the sampled_reward function used in the algorithm of UCB1 and Thompson sampling. \n",
    "The notion of complexity doesn't make sense anymore, because KL involvec in the computation of the complexity is only calculated for Bernouilli variables.\n"
   ]
  },
  {
   "cell_type": "code",
   "execution_count": 15,
   "metadata": {},
   "outputs": [],
   "source": [
    "# Redefinition of the sampled_reward function \n",
    "def sampled_reward(arm):\n",
    "    if isinstance(arm, arms.ArmBernoulli):\n",
    "        return int(arm.sample())\n",
    "    else:\n",
    "        a = arm.sample()\n",
    "        b = arms.ArmBernoulli(a)\n",
    "        return int(b.sample())\n",
    "\n"
   ]
  },
  {
   "cell_type": "code",
   "execution_count": 16,
   "metadata": {},
   "outputs": [],
   "source": [
    "# Non-parametric bandits\n",
    "\n",
    "# Random state\n",
    "rs = np.random.randint(1, 312414)\n",
    "\n",
    "arm1 = arms.ArmBernoulli(0.50, random_state=rs)\n",
    "arm2 = arms.ArmBeta(0.35, 0.2, random_state=rs)\n",
    "arm3 = arms.ArmExp(L=1, random_state=rs)\n",
    "arm4 = arms.ArmExp(L=1.5, random_state=rs)\n",
    "\n",
    "MAB = [arm1, arm2, arm3, arm4]\n",
    "\n"
   ]
  },
  {
   "cell_type": "code",
   "execution_count": 17,
   "metadata": {},
   "outputs": [
    {
     "name": "stdout",
     "output_type": "stream",
     "text": [
      "The expected regret of UCB1 after 100 simulations : \n"
     ]
    },
    {
     "name": "stderr",
     "output_type": "stream",
     "text": [
      "Simulating UCB1: 100%|██████████| 100/100 [00:19<00:00,  5.20it/s]\n",
      "Simulating TS:   1%|          | 1/100 [00:00<00:15,  6.52it/s]"
     ]
    },
    {
     "name": "stdout",
     "output_type": "stream",
     "text": [
      "[1.16363636e-01 1.42727273e-01 4.39090909e-01 ... 3.29955455e+02\n",
      " 3.30071818e+02 3.30058182e+02]\n",
      "The expected regret of Thompson Sampling after 100 simulations : \n"
     ]
    },
    {
     "name": "stderr",
     "output_type": "stream",
     "text": [
      "Simulating TS: 100%|██████████| 100/100 [00:16<00:00,  6.03it/s]\n",
      "Simulating NaiveStrat:   1%|          | 1/100 [00:00<00:17,  5.70it/s]"
     ]
    },
    {
     "name": "stdout",
     "output_type": "stream",
     "text": [
      "[ 0.23636364  0.44272727  0.60909091 ... 79.59545455 79.58181818\n",
      " 79.58818182]\n",
      "The expected regret of Naive strateg after 100 simulations : \n"
     ]
    },
    {
     "name": "stderr",
     "output_type": "stream",
     "text": [
      "Simulating NaiveStrat: 100%|██████████| 100/100 [00:10<00:00,  9.78it/s]"
     ]
    },
    {
     "name": "stdout",
     "output_type": "stream",
     "text": [
      "[6.36363636e-01 2.72727273e-01 9.09090909e-01 ... 1.44854545e+03\n",
      " 1.44818182e+03 1.44881818e+03]\n"
     ]
    },
    {
     "name": "stderr",
     "output_type": "stream",
     "text": [
      "\n"
     ]
    }
   ],
   "source": [
    "N = 100  # number of simulations \n",
    "# The expected regret of UCB1\n",
    "print (\"The expected regret of UCB1 after {} simulations : \".format(N))\n",
    "reg1 = expected_regret(MAB, T, \"UCB1\", N)\n",
    "print(reg1)\n",
    "# The expected regret of Thompson Sampling\n",
    "print (\"The expected regret of Thompson Sampling after {} simulations : \".format(N))\n",
    "reg2 = expected_regret(MAB, T, \"TS\", N)\n",
    "print(reg2)\n",
    "# The expected regret of Naive strategy\n",
    "print (\"The expected regret of Naive strateg after {} simulations : \".format(N))\n",
    "reg3 = expected_regret(MAB, T, \"NaiveStrat\", N)\n",
    "print(reg3)"
   ]
  },
  {
   "cell_type": "code",
   "execution_count": 18,
   "metadata": {},
   "outputs": [
    {
     "data": {
      "image/png": "[encoded data removed]",
      "text/plain": [
       "<Figure size 432x288 with 1 Axes>"
      ]
     },
     "metadata": {
      "needs_background": "light"
     },
     "output_type": "display_data"
    }
   ],
   "source": [
    "\"\"\"Display regret curves\"\"\"\n",
    "\n",
    "plt.figure(1)\n",
    "x = np.arange(1, T+1)\n",
    "plt.plot(x, reg1.cumsum(), label='UCB')\n",
    "plt.plot(x, reg2.cumsum(), label='Thompson')\n",
    "plt.plot(x, reg3.cumsum(), label='Naive')\n",
    "plt.legend()\n",
    "plt.xlabel('Rounds')\n",
    "plt.ylabel('Cumulative Regret')\n",
    "plt.title('Regret curves ')\n",
    "plt.show()"
   ]
  },
  {
   "cell_type": "markdown",
   "metadata": {},
   "source": [
    "The naive strategy has the greatest cumulative regret, and the Thompson strategy has the smallest cumulative regret."
   ]
  },
  {
   "cell_type": "markdown",
   "metadata": {},
   "source": [
    "## 2 - Linear Bandit on Real Data"
   ]
  },
  {
   "cell_type": "markdown",
   "metadata": {},
   "source": [
    "### 2.1 - Linear Bandit"
   ]
  },
  {
   "cell_type": "code",
   "execution_count": 20,
   "metadata": {},
   "outputs": [],
   "source": [
    "from linearmab_models import ToyLinearModel, ColdStartMovieLensModel\n",
    "\n",
    "random_state = np.random.randint(0, 24532523)\n",
    "\n",
    "model = ColdStartMovieLensModel(random_state=random_state,noise=0.1)\n"
   ]
  },
  {
   "cell_type": "code",
   "execution_count": 29,
   "metadata": {},
   "outputs": [],
   "source": [
    "def optimal_arm(model, X, alpha, theta_hat):\n",
    "    \"\"\" Returns the optimal arm \"\"\"\n",
    "    A = np.dot(model.features, theta_hat) \n",
    "    B = alpha*np.sqrt(np.diagonal(np.dot(model.features, np.linalg.inv(X)).dot(model.features.T)))\n",
    "    return np.argmax(A + B) \n",
    "\n",
    "def linUCB(model, T, nb_simu, alpha, lamb):\n",
    "    \"\"\"   \"\"\"\n",
    "    regret = np.zeros((nb_simu, T)) # regret at each iteration \n",
    "    norm_dist = np.zeros((nb_simu, T)) # \n",
    "    nbrF = model.n_features # number of features \n",
    "\n",
    "    for k in tqdm(range(nb_simu), desc=\"Simulating LinUCB \"):\n",
    "        \n",
    "        # Initialization \n",
    "        X = lamb*np.identity(nbrF)   # Z_t.T*Z_t + lambda*Id\n",
    "        Y = np.zeros(nbrF)  #Z_t.T*y_t\n",
    "        \n",
    "        \n",
    "        for t in range(T):\n",
    "            theta_hat = np.dot(np.linalg.inv(X),Y)\n",
    "            \n",
    "            a_t = optimal_arm(model, X, alpha, theta_hat)  # optimal action\n",
    "            r_t = model.reward(a_t) # get the reward\n",
    "\n",
    "            F = model.features[a_t, :].reshape(-1,1)\n",
    "            X += F.dot(F.T)\n",
    "            Y += r_t*F.flatten()\n",
    "\n",
    "            # store regret\n",
    "            regret[k, t] = model.best_arm_reward() - r_t\n",
    "            norm_dist[k, t] = np.linalg.norm(theta_hat - model.real_theta, 2)\n",
    "\n",
    "    # compute average (over sim) of the algorithm performance and plot it\n",
    "    mean_norms =  np.mean(norm_dist, axis = 0)\n",
    "    mean_regrets = np.mean(regret, axis = 0)\n",
    "    \n",
    "    return mean_regrets, mean_norms\n"
   ]
  },
  {
   "cell_type": "code",
   "execution_count": 33,
   "metadata": {},
   "outputs": [],
   "source": [
    "def Random_policy(model, T, nb_simu, lamb):\n",
    "    \"\"\"   \"\"\"\n",
    "    regret = np.zeros((nb_simu, T)) # regret at each iteration \n",
    "    norm_dist = np.zeros((nb_simu, T)) # \n",
    "    nbrF = model.n_features # number of features \n",
    "\n",
    "    for k in tqdm(range(nb_simu), desc=\"Simulating Random policy \"):\n",
    "        \n",
    "        # Initialization \n",
    "        X = lamb*np.identity(nbrF)   # Z_t.T*Z_t + lambda*Id\n",
    "        Y = np.zeros(nbrF)  #Z_t.T*y_t\n",
    "        \n",
    "        \n",
    "        for t in range(T):\n",
    "            theta_hat = np.dot(np.linalg.inv(X),Y)\n",
    "            \n",
    "            a_t = np.random.randint(model.n_actions)  # random arm\n",
    "            r_t = model.reward(a_t) # get the reward\n",
    "\n",
    "            F = model.features[a_t, :].reshape(-1,1)\n",
    "            X += F.dot(F.T)\n",
    "            Y += r_t*F.flatten()\n",
    "\n",
    "            # store regret\n",
    "            regret[k, t] = model.best_arm_reward() - r_t\n",
    "            norm_dist[k, t] = np.linalg.norm(theta_hat - model.real_theta, 2)\n",
    "\n",
    "    # compute average (over sim) of the algorithm performance and plot it\n",
    "    mean_norms =  np.mean(norm_dist, axis = 0)\n",
    "    mean_regrets = np.mean(regret, axis = 0)\n",
    "    \n",
    "    return mean_regrets, mean_norms\n",
    "\n",
    "    "
   ]
  },
  {
   "cell_type": "code",
   "execution_count": 34,
   "metadata": {},
   "outputs": [],
   "source": [
    "def epsilon_greedy(model, T, nb_simu, epsilon, lamb):\n",
    "    \"\"\"   \"\"\"\n",
    "    regret = np.zeros((nb_simu, T)) # regret at each iteration \n",
    "    norm_dist = np.zeros((nb_simu, T)) # \n",
    "    nbrF = model.n_features # number of features \n",
    "\n",
    "    for k in tqdm(range(nb_simu), desc=\"Simulating $\\epsilon$-greedy \"):\n",
    "        \n",
    "        # Initialization \n",
    "        X = lamb*np.identity(nbrF)   # Z_t.T*Z_t + lambda*Id\n",
    "        Y = np.zeros(nbrF)  #Z_t.T*y_t\n",
    "        \n",
    "        \n",
    "        for t in range(T):\n",
    "            theta_hat = np.dot(np.linalg.inv(X),Y)\n",
    "            \n",
    "            # chooses a random arm with probability epsilon and the optimal\n",
    "            # arm with probability 1-epsilon\n",
    "            r = random.random()\n",
    "            if r < epsilon:\n",
    "                a_t = np.random.randint(model.n_actions)\n",
    "            else:\n",
    "                a_t = np.argmax(np.dot(model.features, theta_hat))\n",
    "            \n",
    "            r_t = model.reward(a_t) # get the reward\n",
    "\n",
    "            F = model.features[a_t, :].reshape(-1,1)\n",
    "            X += F.dot(F.T)\n",
    "            Y += r_t*F.flatten()\n",
    "\n",
    "            # store regret\n",
    "            regret[k, t] = model.best_arm_reward() - r_t\n",
    "            norm_dist[k, t] = np.linalg.norm(theta_hat - model.real_theta, 2)\n",
    "\n",
    "    # compute average (over sim) of the algorithm performance and plot it\n",
    "    mean_norms =  np.mean(norm_dist, axis = 0)\n",
    "    mean_regrets = np.mean(regret, axis = 0)\n",
    "    \n",
    "    return mean_regrets, mean_norms\n",
    "\n"
   ]
  },
  {
   "cell_type": "code",
   "execution_count": 37,
   "metadata": {},
   "outputs": [
    {
     "name": "stderr",
     "output_type": "stream",
     "text": [
      "Simulating LinUCB : 100%|██████████| 50/50 [01:42<00:00,  2.75s/it]\n",
      "Simulating Random policy : 100%|██████████| 50/50 [00:45<00:00,  1.20s/it]\n",
      "Simulating $\\epsilon$-greedy : 100%|██████████| 50/50 [00:48<00:00,  1.52it/s]\n"
     ]
    }
   ],
   "source": [
    "T = 6000\n",
    "nb_simu = 50\n",
    "alpha = 2\n",
    "lamb = 1\n",
    "epsilon = 0.1\n",
    "\n",
    "mean_regrets1, mean_norm1 = linUCB(model, T, nb_simu, alpha, lamb)\n",
    "mean_regrets2, mean_norm2 = Random_policy(model, T, nb_simu, lamb)\n",
    "mean_regrets3, mean_norm3 = epsilon_greedy(model, T, nb_simu, epsilon, lamb)"
   ]
  },
  {
   "cell_type": "code",
   "execution_count": 44,
   "metadata": {},
   "outputs": [
    {
     "data": {
      "text/plain": [
       "<matplotlib.legend.Legend at 0x1150d02e8>"
      ]
     },
     "execution_count": 44,
     "metadata": {},
     "output_type": "execute_result"
    },
    {
     "data": {
      "image/png": "[encoded data removed]",
      "text/plain": [
       "<Figure size 432x288 with 1 Axes>"
      ]
     },
     "metadata": {
      "needs_background": "light"
     },
     "output_type": "display_data"
    }
   ],
   "source": [
    "\n",
    "plt.plot(mean_norm1, label='linUCB')\n",
    "plt.plot(mean_norm2, label='Random')\n",
    "plt.plot(mean_norm3, label='$\\epsilon$-greedy')\n",
    "plt.ylabel('d(theta, theta_hat)')\n",
    "plt.xlabel('Rounds')\n",
    "plt.legend()\n",
    "\n"
   ]
  },
  {
   "cell_type": "markdown",
   "metadata": {},
   "source": [
    "The random strategy converges faster than the other strategies. The linUCB algorithm doesn't converge to the real $\\theta$."
   ]
  },
  {
   "cell_type": "code",
   "execution_count": 51,
   "metadata": {},
   "outputs": [
    {
     "data": {
      "image/png": "[encoded data removed]",
      "text/plain": [
       "<Figure size 432x288 with 1 Axes>"
      ]
     },
     "metadata": {
      "needs_background": "light"
     },
     "output_type": "display_data"
    }
   ],
   "source": [
    "plt.plot(mean_regrets1.cumsum(), label='linUCB')\n",
    "plt.plot(mean_regrets2.cumsum(), label='Random')\n",
    "plt.plot(mean_regrets3.cumsum(), label='$\\epsilon$-greedy')\n",
    "plt.ylabel('Cumulative Regret')\n",
    "plt.xlabel('Rounds')\n",
    "plt.legend()\n",
    "plt.show()"
   ]
  },
  {
   "cell_type": "markdown",
   "metadata": {},
   "source": [
    "The linUCB has the lower cumulative regrets. And the random strategy has the highest cumulative regret. "
   ]
  },
  {
   "cell_type": "code",
   "execution_count": null,
   "metadata": {},
   "outputs": [],
   "source": []
  }
 ],
 "metadata": {
  "kernelspec": {
   "display_name": "Python 3",
   "language": "python",
   "name": "python3"
  },
  "language_info": {
   "codemirror_mode": {
    "name": "ipython",
    "version": 3
   },
   "file_extension": ".py",
   "mimetype": "text/x-python",
   "name": "python",
   "nbconvert_exporter": "python",
   "pygments_lexer": "ipython3",
   "version": "3.7.0"
  }
 },
 "nbformat": 4,
 "nbformat_minor": 2
}
