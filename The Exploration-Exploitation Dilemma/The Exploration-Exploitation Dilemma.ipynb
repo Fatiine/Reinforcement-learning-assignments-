{
 "cells": [
  {
   "cell_type": "markdown",
   "metadata": {},
   "source": [
    "# Assignement 2 : The Exploration-Exploitation Dilemma"
   ]
  },
  {
   "cell_type": "markdown",
   "metadata": {},
   "source": [
    "## 1 - Stochastic Multi-Armed Bandits on Simulated Data"
   ]
  },
  {
   "cell_type": "markdown",
   "metadata": {},
   "source": [
    "### 1.1 Bernoulli bandit models"
   ]
  },
  {
   "cell_type": "code",
   "execution_count": 80,
   "metadata": {},
   "outputs": [],
   "source": [
    "# Imports \n",
    "import numpy as np \n",
    "import arms\n",
    "from tqdm import tqdm\n",
    "import matplotlib.pyplot as plt\n"
   ]
  },
  {
   "cell_type": "code",
   "execution_count": 81,
   "metadata": {},
   "outputs": [],
   "source": [
    "# Defining our own Bernoulli bandit model with K arms of means p1, . . . , pK\n",
    "\n",
    "# Random state\n",
    "rs = np.random.randint(1, 312414)\n",
    "\n",
    "arm1 = arms.ArmBernoulli(0.50, random_state=rs)\n",
    "arm2 = arms.ArmBernoulli(0.35, random_state=rs)\n",
    "arm3 = arms.ArmBernoulli(0.40, random_state=rs)\n",
    "arm4 = arms.ArmBernoulli(0.55, random_state=rs)\n",
    "\n",
    "MAB = [arm1, arm2, arm3, arm4]\n"
   ]
  },
  {
   "cell_type": "code",
   "execution_count": 82,
   "metadata": {},
   "outputs": [],
   "source": [
    "def sampled_reward(arm):\n",
    "    \"\"\"Get reward 1 if the arm is a Bernoulli arm \n",
    "    and 0 if it isn't\n",
    "    \"\"\"\n",
    "    if isinstance(arm, arms.ArmBernoulli):\n",
    "        return int(arm.sample())\n",
    "    else:\n",
    "        return int(arms.ArmBernoulli(arm))\n",
    "    "
   ]
  },
  {
   "cell_type": "code",
   "execution_count": 83,
   "metadata": {},
   "outputs": [],
   "source": [
    "def UCB1(T, MAB, ro=0.25 ):\n",
    "    \"\"\"N : number of simulations\n",
    "    ro : confidence interval parameter \n",
    "    \"\"\" \n",
    "    # nbrA : number of arms\n",
    "    nbrA = len(MAB)\n",
    "    # List of the obtained rewards \n",
    "    rew = []\n",
    "    # List of drawn arms \n",
    "    draws = []\n",
    "    # Sum of arms rewards\n",
    "    sum_rew = [0] * nbrA\n",
    "    # Number of times each arm has been drawn \n",
    "    n_draws = [0] * nbrA\n",
    "    \n",
    "    # Initialise first phase : Play each arm once\n",
    "    for i in range(nbrA):\n",
    "        reward = sampled_reward(MAB[i])\n",
    "        n_draws[i] += 1\n",
    "        sum_rew[i] += reward\n",
    "        draws.append(i)\n",
    "        rew.append(reward)\n",
    "        \n",
    "    # Other drawings until time T\n",
    "    for t in range(nbrA, T):\n",
    "        # optimistic scores of the arms at time t\n",
    "        optimistic_scores = np.array([sum_rew[a]/n_draws[a] + ro*np.sqrt(np.log(t)/(2*n_draws[a])) \n",
    "                           for a in range(nbrA)])\n",
    "        \n",
    "        # Pull arm\n",
    "        # Arm to draw is the arm with the highest score \n",
    "        index_arm_draw = np.argmax(optimistic_scores)\n",
    "        \n",
    "        reward = sampled_reward(MAB[index_arm_draw])\n",
    "        n_draws[index_arm_draw] += 1\n",
    "        sum_rew[index_arm_draw] += reward\n",
    "        draws.append(index_arm_draw)\n",
    "        rew.append(reward)\n",
    "    return rew, draws        "
   ]
  },
  {
   "cell_type": "code",
   "execution_count": 84,
   "metadata": {},
   "outputs": [],
   "source": [
    "def TS(T,MAB):\n",
    "    \"\"\"N : number of simulations\n",
    "    ro : confidence interval parameter \n",
    "    \"\"\" \n",
    "    # nbrA : number of arms\n",
    "    nbrA = len(MAB)\n",
    "    # List of the obtained rewards \n",
    "    rew = []\n",
    "    # List of drawn arms \n",
    "    draws = []\n",
    "    # Sum of arms rewards\n",
    "    sum_rew = [0] * nbrA\n",
    "    # Number of times each arm has been drawn \n",
    "    n_draws = [0] * nbrA\n",
    "    \n",
    "    for t in range(T):\n",
    "        # posterior distributions\n",
    "        scores = [np.random.beta(sum_rew[a] + 1, n_draws[a] - sum_rew[a] + 1) \n",
    "                  for a in range(nbrA)]\n",
    "        # Pull arm\n",
    "        # Arm to draw is the arm with the highest score \n",
    "        index_arm_draw = np.argmax(scores)\n",
    "        \n",
    "        reward = sampled_reward(MAB[index_arm_draw])\n",
    "        n_draws[index_arm_draw] += 1\n",
    "        sum_rew[index_arm_draw] += reward\n",
    "        draws.append(index_arm_draw)\n",
    "        rew.append(reward)\n",
    "    return rew, draws "
   ]
  },
  {
   "cell_type": "code",
   "execution_count": 90,
   "metadata": {},
   "outputs": [],
   "source": [
    "def NaiveStrat(T, MAB):\n",
    "    # nbrA : number of arms\n",
    "    nbrA = len(MAB)\n",
    "    # List of the obtained rewards \n",
    "    rew = []\n",
    "    # List of drawn arms \n",
    "    draws = []\n",
    "    # Sum of arms rewards\n",
    "    sum_rew = [0] * nbrA\n",
    "    # Number of times each arm has been drawn \n",
    "    n_draws = [0] * nbrA\n",
    "    \n",
    "    # Initialise first phase : Play each arm once\n",
    "    for i in range(nbrA):\n",
    "        reward = sampled_reward(MAB[i])\n",
    "        n_draws[i] += 1\n",
    "        sum_rew[i] += reward\n",
    "        draws.append(i)\n",
    "        rew.append(reward)\n",
    "        \n",
    "    # Other drawings until time T\n",
    "    for t in range(nbrA, T):\n",
    "        # Empirical best arm \n",
    "        scores = np.array([sum_rew[a]/n_draws[a] for a in range(nbrA)])\n",
    "        # Pull arm\n",
    "        # Arm to draw is the arm with the highest score \n",
    "        index_arm_draw = np.argmax(scores)\n",
    "        \n",
    "        reward = sampled_reward(MAB[index_arm_draw])\n",
    "        n_draws[index_arm_draw] += 1\n",
    "        sum_rew[index_arm_draw] += reward\n",
    "        draws.append(index_arm_draw)\n",
    "        rew.append(reward)\n",
    "    return rew, draws  "
   ]
  },
  {
   "cell_type": "code",
   "execution_count": 132,
   "metadata": {},
   "outputs": [],
   "source": [
    "\"\"\"Simulating a bandit game of length T with the UCB1 and Thompson Sampling\n",
    "strategy on the bandit model MAB: rew and draws are the sequence of the\n",
    "T rewards obtained and of the T the arms drawn.\"\"\"\n",
    "T = 5000  # horizon\n",
    "\n",
    "rew1, draws1 = UCB1(T, MAB)\n",
    "rew2, draws2 = TS(T, MAB)\n",
    "rew3, draws3 = NaiveStrat(T, MAB)\n"
   ]
  },
  {
   "cell_type": "code",
   "execution_count": 133,
   "metadata": {},
   "outputs": [],
   "source": [
    "def expected_regret(MAB, T, strategy, N):\n",
    "    \"\"\"Based on many simulations on the MAB for a given strategy, \n",
    "    it computes the mean regrets at each time.\n",
    "    It returns an array of mean regrets at each t in range(T)\n",
    "    \n",
    "    Parameters :\n",
    "    ------------\n",
    "    MAB : list, list of arms \n",
    "    T : int, Time horizon\n",
    "    strategy : str, \"UCB1\" or \"TS\" ( Thompson Sampling)\n",
    "    N : int, number of simulations \n",
    "    \"\"\"\n",
    "    # best arm\n",
    "    best_arm = max(arm.mean for arm in MAB)\n",
    "    \n",
    "    regret = np.zeros((N, T))\n",
    "    rew = np.zeros(T)\n",
    "    draws = np.zeros(T)\n",
    "\n",
    "    for k in tqdm(range(N), desc=\"Simulating {}\".format(strategy)):\n",
    "        if strategy == \"UCB1\":\n",
    "            rew, draws = UCB1(T, MAB)\n",
    "        \n",
    "        elif strategy == \"TS\":\n",
    "            rew, draws == TS(T, MAB)\n",
    "        \n",
    "        elif strategy == \"NaiveStrat\":\n",
    "            rew, draws == NaiveStrat(T, MAB)\n",
    "            \n",
    "    regret[k, :] = best_arm - np.array(rew)                 \n",
    "    mean_regret = np.mean(regret, axis = 0)\n",
    "    return mean_regret"
   ]
  },
  {
   "cell_type": "code",
   "execution_count": 134,
   "metadata": {},
   "outputs": [
    {
     "name": "stderr",
     "output_type": "stream",
     "text": [
      "\r",
      "Simulating UCB1:   0%|          | 0/100 [00:00<?, ?it/s]"
     ]
    },
    {
     "name": "stdout",
     "output_type": "stream",
     "text": [
      "The expected regret of UCB1 after 100 simulations : \n"
     ]
    },
    {
     "name": "stderr",
     "output_type": "stream",
     "text": [
      "Simulating UCB1: 100%|██████████| 100/100 [00:15<00:00,  6.79it/s]"
     ]
    },
    {
     "name": "stdout",
     "output_type": "stream",
     "text": [
      "[-0.0045 -0.0045  0.0055 ... -0.0045 -0.0045 -0.0045]\n"
     ]
    },
    {
     "name": "stderr",
     "output_type": "stream",
     "text": [
      "\n"
     ]
    }
   ],
   "source": [
    "\"\"\" Based on many simulations, estimate the expected regret of \n",
    "UCB1 and Thompson Sampling \"\"\"\n",
    "N = 100  # number of simulations \n",
    "# The expected regret of UCB1\n",
    "print (\"The expected regret of UCB1 after {} simulations : \".format(N))\n",
    "reg1 = expected_regret(MAB, T, \"UCB1\", N)\n",
    "print(reg1)\n"
   ]
  },
  {
   "cell_type": "code",
   "execution_count": 135,
   "metadata": {},
   "outputs": [
    {
     "name": "stderr",
     "output_type": "stream",
     "text": [
      "Simulating TS:   1%|          | 1/100 [00:00<00:10,  9.14it/s]"
     ]
    },
    {
     "name": "stdout",
     "output_type": "stream",
     "text": [
      "The expected regret of Thompson Sampling after 100 simulations : \n"
     ]
    },
    {
     "name": "stderr",
     "output_type": "stream",
     "text": [
      "Simulating TS: 100%|██████████| 100/100 [00:09<00:00, 10.38it/s]"
     ]
    },
    {
     "name": "stdout",
     "output_type": "stream",
     "text": [
      "[0.0055 0.0055 0.0055 ... 0.0055 0.0055 0.0055]\n"
     ]
    },
    {
     "name": "stderr",
     "output_type": "stream",
     "text": [
      "\n"
     ]
    }
   ],
   "source": [
    "# The expected regret of Thompson Sampling\n",
    "print (\"The expected regret of Thompson Sampling after {} simulations : \".format(N))\n",
    "reg2 = expected_regret(MAB, T, \"TS\", N)\n",
    "print(reg2)"
   ]
  },
  {
   "cell_type": "code",
   "execution_count": 136,
   "metadata": {},
   "outputs": [
    {
     "name": "stderr",
     "output_type": "stream",
     "text": [
      "Simulating NaiveStrat:   3%|▎         | 3/100 [00:00<00:04, 24.21it/s]"
     ]
    },
    {
     "name": "stdout",
     "output_type": "stream",
     "text": [
      "The expected regret of Naive strateg after 100 simulations : \n"
     ]
    },
    {
     "name": "stderr",
     "output_type": "stream",
     "text": [
      "Simulating NaiveStrat: 100%|██████████| 100/100 [00:05<00:00, 19.25it/s]"
     ]
    },
    {
     "name": "stdout",
     "output_type": "stream",
     "text": [
      "[0.0055 0.0055 0.0055 ... 0.0055 0.0055 0.0055]\n"
     ]
    },
    {
     "name": "stderr",
     "output_type": "stream",
     "text": [
      "\n"
     ]
    }
   ],
   "source": [
    "# The expected regret of Naive strategy\n",
    "print (\"The expected regret of Naive strateg after {} simulations : \".format(N))\n",
    "reg3 = expected_regret(MAB, T, \"NaiveStrat\", N)\n",
    "print(reg3)"
   ]
  },
  {
   "cell_type": "code",
   "execution_count": 137,
   "metadata": {},
   "outputs": [],
   "source": [
    "def kl(x, y):\n",
    "    return x*np.log(x/y) + (1-x)*np.log((1-x)/(1-y))\n",
    "def problem_complexity(MAB):\n",
    "    means = [arm.mean for arm in MAB]\n",
    "    p1 = max(means)\n",
    "    c = sum((p1-p)/(kl(p1, p)) for p in means if p != p1)\n",
    "    return c\n",
    "    "
   ]
  },
  {
   "cell_type": "code",
   "execution_count": 138,
   "metadata": {},
   "outputs": [
    {
     "data": {
      "image/png": "[encoded data removed]",
      "text/plain": [
       "<Figure size 432x288 with 1 Axes>"
      ]
     },
     "metadata": {
      "needs_background": "light"
     },
     "output_type": "display_data"
    }
   ],
   "source": [
    "\"\"\"Display regret curves\"\"\"\n",
    "\n",
    "plt.figure(1)\n",
    "x = np.arange(1, T+1)\n",
    "c = problem_complexity(MAB)\n",
    "oracle = [c*np.log(t) for t in x]\n",
    "plt.plot(x, reg1.cumsum(), label='UCB')\n",
    "plt.plot(x, reg2.cumsum(), label='Thompson')\n",
    "plt.plot(x, reg3.cumsum(), label='Naive')\n",
    "plt.plot(x, oracle, label='Oracle')\n",
    "plt.legend()\n",
    "plt.xlabel('Rounds')\n",
    "plt.ylabel('Cumulative Regret')\n",
    "plt.show()"
   ]
  },
  {
   "cell_type": "markdown",
   "metadata": {},
   "source": [
    "#### Question 1:"
   ]
  },
  {
   "cell_type": "markdown",
   "metadata": {},
   "source": [
    "### 1.1 Bernoulli bandit models"
   ]
  }
 ],
 "metadata": {
  "kernelspec": {
   "display_name": "Python 3",
   "language": "python",
   "name": "python3"
  },
  "language_info": {
   "codemirror_mode": {
    "name": "ipython",
    "version": 3
   },
   "file_extension": ".py",
   "mimetype": "text/x-python",
   "name": "python",
   "nbconvert_exporter": "python",
   "pygments_lexer": "ipython3",
   "version": "3.7.0"
  }
 },
 "nbformat": 4,
 "nbformat_minor": 2
}
